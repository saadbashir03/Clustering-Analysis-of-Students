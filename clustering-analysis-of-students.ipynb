{
 "cells": [
  {
   "cell_type": "markdown",
   "id": "0f4ec05b",
   "metadata": {
    "papermill": {
     "duration": 0.021823,
     "end_time": "2024-03-04T14:02:47.961617",
     "exception": false,
     "start_time": "2024-03-04T14:02:47.939794",
     "status": "completed"
    },
    "tags": []
   },
   "source": [
    "# 📌Loading Required Packages"
   ]
  },
  {
   "cell_type": "code",
   "execution_count": 1,
   "id": "964fce7e",
   "metadata": {
    "execution": {
     "iopub.execute_input": "2024-03-04T14:02:48.009372Z",
     "iopub.status.busy": "2024-03-04T14:02:48.008568Z",
     "iopub.status.idle": "2024-03-04T14:02:51.730140Z",
     "shell.execute_reply": "2024-03-04T14:02:51.728460Z"
    },
    "papermill": {
     "duration": 3.750966,
     "end_time": "2024-03-04T14:02:51.733773",
     "exception": false,
     "start_time": "2024-03-04T14:02:47.982807",
     "status": "completed"
    },
    "tags": []
   },
   "outputs": [],
   "source": [
    "#Important packages\n",
    "\n",
    "import pandas as pd\n",
    "import numpy as np\n",
    "\n",
    "import matplotlib.pyplot as plt\n",
    "import seaborn as sns\n",
    "%matplotlib inline\n",
    "\n",
    "import warnings\n",
    "warnings.filterwarnings(\"ignore\")"
   ]
  },
  {
   "cell_type": "markdown",
   "id": "95e451d3",
   "metadata": {
    "papermill": {
     "duration": 0.021142,
     "end_time": "2024-03-04T14:02:51.780471",
     "exception": false,
     "start_time": "2024-03-04T14:02:51.759329",
     "status": "completed"
    },
    "tags": []
   },
   "source": [
    "# 📌Check Out the Data"
   ]
  },
  {
   "cell_type": "code",
   "execution_count": 2,
   "id": "dffcb659",
   "metadata": {
    "execution": {
     "iopub.execute_input": "2024-03-04T14:02:51.825546Z",
     "iopub.status.busy": "2024-03-04T14:02:51.824852Z",
     "iopub.status.idle": "2024-03-04T14:02:51.937449Z",
     "shell.execute_reply": "2024-03-04T14:02:51.936125Z"
    },
    "papermill": {
     "duration": 0.139065,
     "end_time": "2024-03-04T14:02:51.940870",
     "exception": false,
     "start_time": "2024-03-04T14:02:51.801805",
     "status": "completed"
    },
    "tags": []
   },
   "outputs": [],
   "source": [
    "#Load Dataset\n",
    "pd.set_option('display.max_columns', None)\n",
    "data = pd.read_csv(\"/kaggle/input/students-social-network-profile-clustering/03_Clustering_Marketing.csv\")"
   ]
  },
  {
   "cell_type": "code",
   "execution_count": 3,
   "id": "cb3dbdf4",
   "metadata": {
    "execution": {
     "iopub.execute_input": "2024-03-04T14:02:51.986729Z",
     "iopub.status.busy": "2024-03-04T14:02:51.986211Z",
     "iopub.status.idle": "2024-03-04T14:02:52.023673Z",
     "shell.execute_reply": "2024-03-04T14:02:52.022092Z"
    },
    "papermill": {
     "duration": 0.064887,
     "end_time": "2024-03-04T14:02:52.026803",
     "exception": false,
     "start_time": "2024-03-04T14:02:51.961916",
     "status": "completed"
    },
    "tags": []
   },
   "outputs": [
    {
     "data": {
      "text/html": [
       "<div>\n",
       "<style scoped>\n",
       "    .dataframe tbody tr th:only-of-type {\n",
       "        vertical-align: middle;\n",
       "    }\n",
       "\n",
       "    .dataframe tbody tr th {\n",
       "        vertical-align: top;\n",
       "    }\n",
       "\n",
       "    .dataframe thead th {\n",
       "        text-align: right;\n",
       "    }\n",
       "</style>\n",
       "<table border=\"1\" class=\"dataframe\">\n",
       "  <thead>\n",
       "    <tr style=\"text-align: right;\">\n",
       "      <th></th>\n",
       "      <th>gradyear</th>\n",
       "      <th>gender</th>\n",
       "      <th>age</th>\n",
       "      <th>NumberOffriends</th>\n",
       "      <th>basketball</th>\n",
       "      <th>football</th>\n",
       "      <th>soccer</th>\n",
       "      <th>softball</th>\n",
       "      <th>volleyball</th>\n",
       "      <th>swimming</th>\n",
       "      <th>cheerleading</th>\n",
       "      <th>baseball</th>\n",
       "      <th>tennis</th>\n",
       "      <th>sports</th>\n",
       "      <th>cute</th>\n",
       "      <th>sex</th>\n",
       "      <th>sexy</th>\n",
       "      <th>hot</th>\n",
       "      <th>kissed</th>\n",
       "      <th>dance</th>\n",
       "      <th>band</th>\n",
       "      <th>marching</th>\n",
       "      <th>music</th>\n",
       "      <th>rock</th>\n",
       "      <th>god</th>\n",
       "      <th>church</th>\n",
       "      <th>jesus</th>\n",
       "      <th>bible</th>\n",
       "      <th>hair</th>\n",
       "      <th>dress</th>\n",
       "      <th>blonde</th>\n",
       "      <th>mall</th>\n",
       "      <th>shopping</th>\n",
       "      <th>clothes</th>\n",
       "      <th>hollister</th>\n",
       "      <th>abercrombie</th>\n",
       "      <th>die</th>\n",
       "      <th>death</th>\n",
       "      <th>drunk</th>\n",
       "      <th>drugs</th>\n",
       "    </tr>\n",
       "  </thead>\n",
       "  <tbody>\n",
       "    <tr>\n",
       "      <th>0</th>\n",
       "      <td>2007</td>\n",
       "      <td>NaN</td>\n",
       "      <td>NaN</td>\n",
       "      <td>0</td>\n",
       "      <td>0</td>\n",
       "      <td>0</td>\n",
       "      <td>0</td>\n",
       "      <td>0</td>\n",
       "      <td>0</td>\n",
       "      <td>0</td>\n",
       "      <td>0</td>\n",
       "      <td>0</td>\n",
       "      <td>0</td>\n",
       "      <td>0</td>\n",
       "      <td>0</td>\n",
       "      <td>0</td>\n",
       "      <td>0</td>\n",
       "      <td>0</td>\n",
       "      <td>0</td>\n",
       "      <td>0</td>\n",
       "      <td>0</td>\n",
       "      <td>0</td>\n",
       "      <td>0</td>\n",
       "      <td>0</td>\n",
       "      <td>0</td>\n",
       "      <td>0</td>\n",
       "      <td>0</td>\n",
       "      <td>0</td>\n",
       "      <td>0</td>\n",
       "      <td>0</td>\n",
       "      <td>0</td>\n",
       "      <td>0</td>\n",
       "      <td>0</td>\n",
       "      <td>0</td>\n",
       "      <td>0</td>\n",
       "      <td>0</td>\n",
       "      <td>0</td>\n",
       "      <td>0</td>\n",
       "      <td>0</td>\n",
       "      <td>0</td>\n",
       "    </tr>\n",
       "    <tr>\n",
       "      <th>1</th>\n",
       "      <td>2007</td>\n",
       "      <td>F</td>\n",
       "      <td>17.41</td>\n",
       "      <td>49</td>\n",
       "      <td>0</td>\n",
       "      <td>0</td>\n",
       "      <td>1</td>\n",
       "      <td>0</td>\n",
       "      <td>0</td>\n",
       "      <td>1</td>\n",
       "      <td>0</td>\n",
       "      <td>0</td>\n",
       "      <td>0</td>\n",
       "      <td>0</td>\n",
       "      <td>0</td>\n",
       "      <td>0</td>\n",
       "      <td>0</td>\n",
       "      <td>0</td>\n",
       "      <td>0</td>\n",
       "      <td>0</td>\n",
       "      <td>0</td>\n",
       "      <td>0</td>\n",
       "      <td>0</td>\n",
       "      <td>0</td>\n",
       "      <td>1</td>\n",
       "      <td>0</td>\n",
       "      <td>0</td>\n",
       "      <td>0</td>\n",
       "      <td>0</td>\n",
       "      <td>0</td>\n",
       "      <td>0</td>\n",
       "      <td>0</td>\n",
       "      <td>0</td>\n",
       "      <td>0</td>\n",
       "      <td>0</td>\n",
       "      <td>0</td>\n",
       "      <td>0</td>\n",
       "      <td>0</td>\n",
       "      <td>1</td>\n",
       "      <td>0</td>\n",
       "    </tr>\n",
       "    <tr>\n",
       "      <th>2</th>\n",
       "      <td>2007</td>\n",
       "      <td>F</td>\n",
       "      <td>17.511</td>\n",
       "      <td>41</td>\n",
       "      <td>0</td>\n",
       "      <td>0</td>\n",
       "      <td>0</td>\n",
       "      <td>0</td>\n",
       "      <td>0</td>\n",
       "      <td>0</td>\n",
       "      <td>0</td>\n",
       "      <td>1</td>\n",
       "      <td>0</td>\n",
       "      <td>0</td>\n",
       "      <td>0</td>\n",
       "      <td>3</td>\n",
       "      <td>0</td>\n",
       "      <td>0</td>\n",
       "      <td>0</td>\n",
       "      <td>0</td>\n",
       "      <td>0</td>\n",
       "      <td>0</td>\n",
       "      <td>1</td>\n",
       "      <td>2</td>\n",
       "      <td>0</td>\n",
       "      <td>1</td>\n",
       "      <td>0</td>\n",
       "      <td>0</td>\n",
       "      <td>4</td>\n",
       "      <td>0</td>\n",
       "      <td>0</td>\n",
       "      <td>1</td>\n",
       "      <td>0</td>\n",
       "      <td>0</td>\n",
       "      <td>0</td>\n",
       "      <td>0</td>\n",
       "      <td>0</td>\n",
       "      <td>0</td>\n",
       "      <td>1</td>\n",
       "      <td>1</td>\n",
       "    </tr>\n",
       "    <tr>\n",
       "      <th>3</th>\n",
       "      <td>2006</td>\n",
       "      <td>F</td>\n",
       "      <td>NaN</td>\n",
       "      <td>36</td>\n",
       "      <td>0</td>\n",
       "      <td>0</td>\n",
       "      <td>0</td>\n",
       "      <td>0</td>\n",
       "      <td>0</td>\n",
       "      <td>0</td>\n",
       "      <td>0</td>\n",
       "      <td>0</td>\n",
       "      <td>0</td>\n",
       "      <td>0</td>\n",
       "      <td>0</td>\n",
       "      <td>0</td>\n",
       "      <td>0</td>\n",
       "      <td>0</td>\n",
       "      <td>0</td>\n",
       "      <td>0</td>\n",
       "      <td>0</td>\n",
       "      <td>0</td>\n",
       "      <td>0</td>\n",
       "      <td>0</td>\n",
       "      <td>0</td>\n",
       "      <td>0</td>\n",
       "      <td>0</td>\n",
       "      <td>0</td>\n",
       "      <td>0</td>\n",
       "      <td>0</td>\n",
       "      <td>0</td>\n",
       "      <td>0</td>\n",
       "      <td>0</td>\n",
       "      <td>0</td>\n",
       "      <td>0</td>\n",
       "      <td>0</td>\n",
       "      <td>0</td>\n",
       "      <td>0</td>\n",
       "      <td>0</td>\n",
       "      <td>0</td>\n",
       "    </tr>\n",
       "    <tr>\n",
       "      <th>4</th>\n",
       "      <td>2008</td>\n",
       "      <td>F</td>\n",
       "      <td>16.657</td>\n",
       "      <td>1</td>\n",
       "      <td>0</td>\n",
       "      <td>0</td>\n",
       "      <td>0</td>\n",
       "      <td>0</td>\n",
       "      <td>0</td>\n",
       "      <td>1</td>\n",
       "      <td>0</td>\n",
       "      <td>0</td>\n",
       "      <td>3</td>\n",
       "      <td>0</td>\n",
       "      <td>6</td>\n",
       "      <td>0</td>\n",
       "      <td>2</td>\n",
       "      <td>0</td>\n",
       "      <td>0</td>\n",
       "      <td>0</td>\n",
       "      <td>0</td>\n",
       "      <td>0</td>\n",
       "      <td>1</td>\n",
       "      <td>0</td>\n",
       "      <td>1</td>\n",
       "      <td>1</td>\n",
       "      <td>0</td>\n",
       "      <td>0</td>\n",
       "      <td>5</td>\n",
       "      <td>0</td>\n",
       "      <td>0</td>\n",
       "      <td>0</td>\n",
       "      <td>0</td>\n",
       "      <td>3</td>\n",
       "      <td>0</td>\n",
       "      <td>0</td>\n",
       "      <td>0</td>\n",
       "      <td>0</td>\n",
       "      <td>0</td>\n",
       "      <td>0</td>\n",
       "    </tr>\n",
       "  </tbody>\n",
       "</table>\n",
       "</div>"
      ],
      "text/plain": [
       "   gradyear gender     age  NumberOffriends  basketball  football  soccer  \\\n",
       "0      2007    NaN     NaN                0           0         0       0   \n",
       "1      2007      F   17.41               49           0         0       1   \n",
       "2      2007      F  17.511               41           0         0       0   \n",
       "3      2006      F     NaN               36           0         0       0   \n",
       "4      2008      F  16.657                1           0         0       0   \n",
       "\n",
       "   softball  volleyball  swimming  cheerleading  baseball  tennis  sports  \\\n",
       "0         0           0         0             0         0       0       0   \n",
       "1         0           0         1             0         0       0       0   \n",
       "2         0           0         0             0         1       0       0   \n",
       "3         0           0         0             0         0       0       0   \n",
       "4         0           0         1             0         0       3       0   \n",
       "\n",
       "   cute  sex  sexy  hot  kissed  dance  band  marching  music  rock  god  \\\n",
       "0     0    0     0    0       0      0     0         0      0     0    0   \n",
       "1     0    0     0    0       0      0     0         0      0     0    1   \n",
       "2     0    3     0    0       0      0     0         0      1     2    0   \n",
       "3     0    0     0    0       0      0     0         0      0     0    0   \n",
       "4     6    0     2    0       0      0     0         0      1     0    1   \n",
       "\n",
       "   church  jesus  bible  hair  dress  blonde  mall  shopping  clothes  \\\n",
       "0       0      0      0     0      0       0     0         0        0   \n",
       "1       0      0      0     0      0       0     0         0        0   \n",
       "2       1      0      0     4      0       0     1         0        0   \n",
       "3       0      0      0     0      0       0     0         0        0   \n",
       "4       1      0      0     5      0       0     0         0        3   \n",
       "\n",
       "   hollister  abercrombie  die  death  drunk  drugs  \n",
       "0          0            0    0      0      0      0  \n",
       "1          0            0    0      0      1      0  \n",
       "2          0            0    0      0      1      1  \n",
       "3          0            0    0      0      0      0  \n",
       "4          0            0    0      0      0      0  "
      ]
     },
     "execution_count": 3,
     "metadata": {},
     "output_type": "execute_result"
    }
   ],
   "source": [
    "#Running head command to see first 6 observations\n",
    "data.head()"
   ]
  },
  {
   "cell_type": "markdown",
   "id": "29c30f44",
   "metadata": {
    "papermill": {
     "duration": 0.021915,
     "end_time": "2024-03-04T14:02:52.071705",
     "exception": false,
     "start_time": "2024-03-04T14:02:52.049790",
     "status": "completed"
    },
    "tags": []
   },
   "source": [
    "# 📌Summary Statistics of Numerical Variables"
   ]
  },
  {
   "cell_type": "code",
   "execution_count": 4,
   "id": "20fbba88",
   "metadata": {
    "execution": {
     "iopub.execute_input": "2024-03-04T14:02:52.119182Z",
     "iopub.status.busy": "2024-03-04T14:02:52.117987Z",
     "iopub.status.idle": "2024-03-04T14:02:52.277457Z",
     "shell.execute_reply": "2024-03-04T14:02:52.276377Z"
    },
    "papermill": {
     "duration": 0.186296,
     "end_time": "2024-03-04T14:02:52.279991",
     "exception": false,
     "start_time": "2024-03-04T14:02:52.093695",
     "status": "completed"
    },
    "tags": []
   },
   "outputs": [
    {
     "data": {
      "text/html": [
       "<div>\n",
       "<style scoped>\n",
       "    .dataframe tbody tr th:only-of-type {\n",
       "        vertical-align: middle;\n",
       "    }\n",
       "\n",
       "    .dataframe tbody tr th {\n",
       "        vertical-align: top;\n",
       "    }\n",
       "\n",
       "    .dataframe thead th {\n",
       "        text-align: right;\n",
       "    }\n",
       "</style>\n",
       "<table border=\"1\" class=\"dataframe\">\n",
       "  <thead>\n",
       "    <tr style=\"text-align: right;\">\n",
       "      <th></th>\n",
       "      <th>gradyear</th>\n",
       "      <th>NumberOffriends</th>\n",
       "      <th>basketball</th>\n",
       "      <th>football</th>\n",
       "      <th>soccer</th>\n",
       "      <th>softball</th>\n",
       "      <th>volleyball</th>\n",
       "      <th>swimming</th>\n",
       "      <th>cheerleading</th>\n",
       "      <th>baseball</th>\n",
       "      <th>tennis</th>\n",
       "      <th>sports</th>\n",
       "      <th>cute</th>\n",
       "      <th>sex</th>\n",
       "      <th>sexy</th>\n",
       "      <th>hot</th>\n",
       "      <th>kissed</th>\n",
       "      <th>dance</th>\n",
       "      <th>band</th>\n",
       "      <th>marching</th>\n",
       "      <th>music</th>\n",
       "      <th>rock</th>\n",
       "      <th>god</th>\n",
       "      <th>church</th>\n",
       "      <th>jesus</th>\n",
       "      <th>bible</th>\n",
       "      <th>hair</th>\n",
       "      <th>dress</th>\n",
       "      <th>blonde</th>\n",
       "      <th>mall</th>\n",
       "      <th>shopping</th>\n",
       "      <th>clothes</th>\n",
       "      <th>hollister</th>\n",
       "      <th>abercrombie</th>\n",
       "      <th>die</th>\n",
       "      <th>death</th>\n",
       "      <th>drunk</th>\n",
       "      <th>drugs</th>\n",
       "    </tr>\n",
       "  </thead>\n",
       "  <tbody>\n",
       "    <tr>\n",
       "      <th>count</th>\n",
       "      <td>15000.000000</td>\n",
       "      <td>15000.000000</td>\n",
       "      <td>15000.000000</td>\n",
       "      <td>15000.000000</td>\n",
       "      <td>15000.00000</td>\n",
       "      <td>15000.000000</td>\n",
       "      <td>15000.000000</td>\n",
       "      <td>15000.000000</td>\n",
       "      <td>15000.000000</td>\n",
       "      <td>15000.000000</td>\n",
       "      <td>15000.00000</td>\n",
       "      <td>15000.000000</td>\n",
       "      <td>15000.000000</td>\n",
       "      <td>15000.000000</td>\n",
       "      <td>15000.00000</td>\n",
       "      <td>15000.000000</td>\n",
       "      <td>15000.000000</td>\n",
       "      <td>15000.000000</td>\n",
       "      <td>15000.000000</td>\n",
       "      <td>15000.000000</td>\n",
       "      <td>15000.000000</td>\n",
       "      <td>15000.000000</td>\n",
       "      <td>15000.000000</td>\n",
       "      <td>15000.000000</td>\n",
       "      <td>15000.000000</td>\n",
       "      <td>15000.000000</td>\n",
       "      <td>15000.000000</td>\n",
       "      <td>15000.000000</td>\n",
       "      <td>15000.000000</td>\n",
       "      <td>15000.000000</td>\n",
       "      <td>15000.000000</td>\n",
       "      <td>15000.000000</td>\n",
       "      <td>15000.000000</td>\n",
       "      <td>15000.000000</td>\n",
       "      <td>15000.000000</td>\n",
       "      <td>15000.000000</td>\n",
       "      <td>15000.000000</td>\n",
       "      <td>15000.000000</td>\n",
       "    </tr>\n",
       "    <tr>\n",
       "      <th>mean</th>\n",
       "      <td>2007.496933</td>\n",
       "      <td>29.834533</td>\n",
       "      <td>0.267000</td>\n",
       "      <td>0.255467</td>\n",
       "      <td>0.22200</td>\n",
       "      <td>0.159667</td>\n",
       "      <td>0.142933</td>\n",
       "      <td>0.135000</td>\n",
       "      <td>0.105133</td>\n",
       "      <td>0.104133</td>\n",
       "      <td>0.08820</td>\n",
       "      <td>0.143667</td>\n",
       "      <td>0.328067</td>\n",
       "      <td>0.214600</td>\n",
       "      <td>0.13820</td>\n",
       "      <td>0.126600</td>\n",
       "      <td>0.104733</td>\n",
       "      <td>0.430867</td>\n",
       "      <td>0.301933</td>\n",
       "      <td>0.042133</td>\n",
       "      <td>0.732933</td>\n",
       "      <td>0.245867</td>\n",
       "      <td>0.474933</td>\n",
       "      <td>0.244667</td>\n",
       "      <td>0.112133</td>\n",
       "      <td>0.020800</td>\n",
       "      <td>0.431200</td>\n",
       "      <td>0.116467</td>\n",
       "      <td>0.112867</td>\n",
       "      <td>0.259467</td>\n",
       "      <td>0.357267</td>\n",
       "      <td>0.150267</td>\n",
       "      <td>0.071800</td>\n",
       "      <td>0.051467</td>\n",
       "      <td>0.185867</td>\n",
       "      <td>0.118067</td>\n",
       "      <td>0.091733</td>\n",
       "      <td>0.061067</td>\n",
       "    </tr>\n",
       "    <tr>\n",
       "      <th>std</th>\n",
       "      <td>1.116516</td>\n",
       "      <td>35.386649</td>\n",
       "      <td>0.788851</td>\n",
       "      <td>0.702260</td>\n",
       "      <td>0.92042</td>\n",
       "      <td>0.737344</td>\n",
       "      <td>0.638747</td>\n",
       "      <td>0.548691</td>\n",
       "      <td>0.502491</td>\n",
       "      <td>0.519205</td>\n",
       "      <td>0.53032</td>\n",
       "      <td>0.476209</td>\n",
       "      <td>0.810976</td>\n",
       "      <td>1.277806</td>\n",
       "      <td>0.51191</td>\n",
       "      <td>0.470801</td>\n",
       "      <td>0.539305</td>\n",
       "      <td>1.167495</td>\n",
       "      <td>1.075692</td>\n",
       "      <td>0.297261</td>\n",
       "      <td>1.194475</td>\n",
       "      <td>0.742150</td>\n",
       "      <td>1.335873</td>\n",
       "      <td>0.790810</td>\n",
       "      <td>0.585362</td>\n",
       "      <td>0.212533</td>\n",
       "      <td>1.089287</td>\n",
       "      <td>0.461862</td>\n",
       "      <td>2.708619</td>\n",
       "      <td>0.704398</td>\n",
       "      <td>0.728512</td>\n",
       "      <td>0.478716</td>\n",
       "      <td>0.356258</td>\n",
       "      <td>0.280755</td>\n",
       "      <td>0.609928</td>\n",
       "      <td>0.455200</td>\n",
       "      <td>0.420631</td>\n",
       "      <td>0.349112</td>\n",
       "    </tr>\n",
       "    <tr>\n",
       "      <th>min</th>\n",
       "      <td>2006.000000</td>\n",
       "      <td>0.000000</td>\n",
       "      <td>0.000000</td>\n",
       "      <td>0.000000</td>\n",
       "      <td>0.00000</td>\n",
       "      <td>0.000000</td>\n",
       "      <td>0.000000</td>\n",
       "      <td>0.000000</td>\n",
       "      <td>0.000000</td>\n",
       "      <td>0.000000</td>\n",
       "      <td>0.00000</td>\n",
       "      <td>0.000000</td>\n",
       "      <td>0.000000</td>\n",
       "      <td>0.000000</td>\n",
       "      <td>0.00000</td>\n",
       "      <td>0.000000</td>\n",
       "      <td>0.000000</td>\n",
       "      <td>0.000000</td>\n",
       "      <td>0.000000</td>\n",
       "      <td>0.000000</td>\n",
       "      <td>0.000000</td>\n",
       "      <td>0.000000</td>\n",
       "      <td>0.000000</td>\n",
       "      <td>0.000000</td>\n",
       "      <td>0.000000</td>\n",
       "      <td>0.000000</td>\n",
       "      <td>0.000000</td>\n",
       "      <td>0.000000</td>\n",
       "      <td>0.000000</td>\n",
       "      <td>0.000000</td>\n",
       "      <td>0.000000</td>\n",
       "      <td>0.000000</td>\n",
       "      <td>0.000000</td>\n",
       "      <td>0.000000</td>\n",
       "      <td>0.000000</td>\n",
       "      <td>0.000000</td>\n",
       "      <td>0.000000</td>\n",
       "      <td>0.000000</td>\n",
       "    </tr>\n",
       "    <tr>\n",
       "      <th>25%</th>\n",
       "      <td>2006.000000</td>\n",
       "      <td>3.000000</td>\n",
       "      <td>0.000000</td>\n",
       "      <td>0.000000</td>\n",
       "      <td>0.00000</td>\n",
       "      <td>0.000000</td>\n",
       "      <td>0.000000</td>\n",
       "      <td>0.000000</td>\n",
       "      <td>0.000000</td>\n",
       "      <td>0.000000</td>\n",
       "      <td>0.00000</td>\n",
       "      <td>0.000000</td>\n",
       "      <td>0.000000</td>\n",
       "      <td>0.000000</td>\n",
       "      <td>0.00000</td>\n",
       "      <td>0.000000</td>\n",
       "      <td>0.000000</td>\n",
       "      <td>0.000000</td>\n",
       "      <td>0.000000</td>\n",
       "      <td>0.000000</td>\n",
       "      <td>0.000000</td>\n",
       "      <td>0.000000</td>\n",
       "      <td>0.000000</td>\n",
       "      <td>0.000000</td>\n",
       "      <td>0.000000</td>\n",
       "      <td>0.000000</td>\n",
       "      <td>0.000000</td>\n",
       "      <td>0.000000</td>\n",
       "      <td>0.000000</td>\n",
       "      <td>0.000000</td>\n",
       "      <td>0.000000</td>\n",
       "      <td>0.000000</td>\n",
       "      <td>0.000000</td>\n",
       "      <td>0.000000</td>\n",
       "      <td>0.000000</td>\n",
       "      <td>0.000000</td>\n",
       "      <td>0.000000</td>\n",
       "      <td>0.000000</td>\n",
       "    </tr>\n",
       "    <tr>\n",
       "      <th>50%</th>\n",
       "      <td>2008.000000</td>\n",
       "      <td>20.000000</td>\n",
       "      <td>0.000000</td>\n",
       "      <td>0.000000</td>\n",
       "      <td>0.00000</td>\n",
       "      <td>0.000000</td>\n",
       "      <td>0.000000</td>\n",
       "      <td>0.000000</td>\n",
       "      <td>0.000000</td>\n",
       "      <td>0.000000</td>\n",
       "      <td>0.00000</td>\n",
       "      <td>0.000000</td>\n",
       "      <td>0.000000</td>\n",
       "      <td>0.000000</td>\n",
       "      <td>0.00000</td>\n",
       "      <td>0.000000</td>\n",
       "      <td>0.000000</td>\n",
       "      <td>0.000000</td>\n",
       "      <td>0.000000</td>\n",
       "      <td>0.000000</td>\n",
       "      <td>0.000000</td>\n",
       "      <td>0.000000</td>\n",
       "      <td>0.000000</td>\n",
       "      <td>0.000000</td>\n",
       "      <td>0.000000</td>\n",
       "      <td>0.000000</td>\n",
       "      <td>0.000000</td>\n",
       "      <td>0.000000</td>\n",
       "      <td>0.000000</td>\n",
       "      <td>0.000000</td>\n",
       "      <td>0.000000</td>\n",
       "      <td>0.000000</td>\n",
       "      <td>0.000000</td>\n",
       "      <td>0.000000</td>\n",
       "      <td>0.000000</td>\n",
       "      <td>0.000000</td>\n",
       "      <td>0.000000</td>\n",
       "      <td>0.000000</td>\n",
       "    </tr>\n",
       "    <tr>\n",
       "      <th>75%</th>\n",
       "      <td>2008.000000</td>\n",
       "      <td>44.000000</td>\n",
       "      <td>0.000000</td>\n",
       "      <td>0.000000</td>\n",
       "      <td>0.00000</td>\n",
       "      <td>0.000000</td>\n",
       "      <td>0.000000</td>\n",
       "      <td>0.000000</td>\n",
       "      <td>0.000000</td>\n",
       "      <td>0.000000</td>\n",
       "      <td>0.00000</td>\n",
       "      <td>0.000000</td>\n",
       "      <td>0.000000</td>\n",
       "      <td>0.000000</td>\n",
       "      <td>0.00000</td>\n",
       "      <td>0.000000</td>\n",
       "      <td>0.000000</td>\n",
       "      <td>0.000000</td>\n",
       "      <td>0.000000</td>\n",
       "      <td>0.000000</td>\n",
       "      <td>1.000000</td>\n",
       "      <td>0.000000</td>\n",
       "      <td>1.000000</td>\n",
       "      <td>0.000000</td>\n",
       "      <td>0.000000</td>\n",
       "      <td>0.000000</td>\n",
       "      <td>0.000000</td>\n",
       "      <td>0.000000</td>\n",
       "      <td>0.000000</td>\n",
       "      <td>0.000000</td>\n",
       "      <td>1.000000</td>\n",
       "      <td>0.000000</td>\n",
       "      <td>0.000000</td>\n",
       "      <td>0.000000</td>\n",
       "      <td>0.000000</td>\n",
       "      <td>0.000000</td>\n",
       "      <td>0.000000</td>\n",
       "      <td>0.000000</td>\n",
       "    </tr>\n",
       "    <tr>\n",
       "      <th>max</th>\n",
       "      <td>2009.000000</td>\n",
       "      <td>605.000000</td>\n",
       "      <td>22.000000</td>\n",
       "      <td>9.000000</td>\n",
       "      <td>22.00000</td>\n",
       "      <td>17.000000</td>\n",
       "      <td>14.000000</td>\n",
       "      <td>31.000000</td>\n",
       "      <td>8.000000</td>\n",
       "      <td>14.000000</td>\n",
       "      <td>15.00000</td>\n",
       "      <td>12.000000</td>\n",
       "      <td>14.000000</td>\n",
       "      <td>114.000000</td>\n",
       "      <td>12.00000</td>\n",
       "      <td>10.000000</td>\n",
       "      <td>26.000000</td>\n",
       "      <td>29.000000</td>\n",
       "      <td>27.000000</td>\n",
       "      <td>9.000000</td>\n",
       "      <td>23.000000</td>\n",
       "      <td>18.000000</td>\n",
       "      <td>52.000000</td>\n",
       "      <td>17.000000</td>\n",
       "      <td>30.000000</td>\n",
       "      <td>11.000000</td>\n",
       "      <td>21.000000</td>\n",
       "      <td>7.000000</td>\n",
       "      <td>327.000000</td>\n",
       "      <td>12.000000</td>\n",
       "      <td>11.000000</td>\n",
       "      <td>8.000000</td>\n",
       "      <td>8.000000</td>\n",
       "      <td>8.000000</td>\n",
       "      <td>16.000000</td>\n",
       "      <td>14.000000</td>\n",
       "      <td>8.000000</td>\n",
       "      <td>16.000000</td>\n",
       "    </tr>\n",
       "  </tbody>\n",
       "</table>\n",
       "</div>"
      ],
      "text/plain": [
       "           gradyear  NumberOffriends    basketball      football       soccer  \\\n",
       "count  15000.000000     15000.000000  15000.000000  15000.000000  15000.00000   \n",
       "mean    2007.496933        29.834533      0.267000      0.255467      0.22200   \n",
       "std        1.116516        35.386649      0.788851      0.702260      0.92042   \n",
       "min     2006.000000         0.000000      0.000000      0.000000      0.00000   \n",
       "25%     2006.000000         3.000000      0.000000      0.000000      0.00000   \n",
       "50%     2008.000000        20.000000      0.000000      0.000000      0.00000   \n",
       "75%     2008.000000        44.000000      0.000000      0.000000      0.00000   \n",
       "max     2009.000000       605.000000     22.000000      9.000000     22.00000   \n",
       "\n",
       "           softball    volleyball      swimming  cheerleading      baseball  \\\n",
       "count  15000.000000  15000.000000  15000.000000  15000.000000  15000.000000   \n",
       "mean       0.159667      0.142933      0.135000      0.105133      0.104133   \n",
       "std        0.737344      0.638747      0.548691      0.502491      0.519205   \n",
       "min        0.000000      0.000000      0.000000      0.000000      0.000000   \n",
       "25%        0.000000      0.000000      0.000000      0.000000      0.000000   \n",
       "50%        0.000000      0.000000      0.000000      0.000000      0.000000   \n",
       "75%        0.000000      0.000000      0.000000      0.000000      0.000000   \n",
       "max       17.000000     14.000000     31.000000      8.000000     14.000000   \n",
       "\n",
       "            tennis        sports          cute           sex         sexy  \\\n",
       "count  15000.00000  15000.000000  15000.000000  15000.000000  15000.00000   \n",
       "mean       0.08820      0.143667      0.328067      0.214600      0.13820   \n",
       "std        0.53032      0.476209      0.810976      1.277806      0.51191   \n",
       "min        0.00000      0.000000      0.000000      0.000000      0.00000   \n",
       "25%        0.00000      0.000000      0.000000      0.000000      0.00000   \n",
       "50%        0.00000      0.000000      0.000000      0.000000      0.00000   \n",
       "75%        0.00000      0.000000      0.000000      0.000000      0.00000   \n",
       "max       15.00000     12.000000     14.000000    114.000000     12.00000   \n",
       "\n",
       "                hot        kissed         dance          band      marching  \\\n",
       "count  15000.000000  15000.000000  15000.000000  15000.000000  15000.000000   \n",
       "mean       0.126600      0.104733      0.430867      0.301933      0.042133   \n",
       "std        0.470801      0.539305      1.167495      1.075692      0.297261   \n",
       "min        0.000000      0.000000      0.000000      0.000000      0.000000   \n",
       "25%        0.000000      0.000000      0.000000      0.000000      0.000000   \n",
       "50%        0.000000      0.000000      0.000000      0.000000      0.000000   \n",
       "75%        0.000000      0.000000      0.000000      0.000000      0.000000   \n",
       "max       10.000000     26.000000     29.000000     27.000000      9.000000   \n",
       "\n",
       "              music          rock           god        church         jesus  \\\n",
       "count  15000.000000  15000.000000  15000.000000  15000.000000  15000.000000   \n",
       "mean       0.732933      0.245867      0.474933      0.244667      0.112133   \n",
       "std        1.194475      0.742150      1.335873      0.790810      0.585362   \n",
       "min        0.000000      0.000000      0.000000      0.000000      0.000000   \n",
       "25%        0.000000      0.000000      0.000000      0.000000      0.000000   \n",
       "50%        0.000000      0.000000      0.000000      0.000000      0.000000   \n",
       "75%        1.000000      0.000000      1.000000      0.000000      0.000000   \n",
       "max       23.000000     18.000000     52.000000     17.000000     30.000000   \n",
       "\n",
       "              bible          hair         dress        blonde          mall  \\\n",
       "count  15000.000000  15000.000000  15000.000000  15000.000000  15000.000000   \n",
       "mean       0.020800      0.431200      0.116467      0.112867      0.259467   \n",
       "std        0.212533      1.089287      0.461862      2.708619      0.704398   \n",
       "min        0.000000      0.000000      0.000000      0.000000      0.000000   \n",
       "25%        0.000000      0.000000      0.000000      0.000000      0.000000   \n",
       "50%        0.000000      0.000000      0.000000      0.000000      0.000000   \n",
       "75%        0.000000      0.000000      0.000000      0.000000      0.000000   \n",
       "max       11.000000     21.000000      7.000000    327.000000     12.000000   \n",
       "\n",
       "           shopping       clothes     hollister   abercrombie           die  \\\n",
       "count  15000.000000  15000.000000  15000.000000  15000.000000  15000.000000   \n",
       "mean       0.357267      0.150267      0.071800      0.051467      0.185867   \n",
       "std        0.728512      0.478716      0.356258      0.280755      0.609928   \n",
       "min        0.000000      0.000000      0.000000      0.000000      0.000000   \n",
       "25%        0.000000      0.000000      0.000000      0.000000      0.000000   \n",
       "50%        0.000000      0.000000      0.000000      0.000000      0.000000   \n",
       "75%        1.000000      0.000000      0.000000      0.000000      0.000000   \n",
       "max       11.000000      8.000000      8.000000      8.000000     16.000000   \n",
       "\n",
       "              death         drunk         drugs  \n",
       "count  15000.000000  15000.000000  15000.000000  \n",
       "mean       0.118067      0.091733      0.061067  \n",
       "std        0.455200      0.420631      0.349112  \n",
       "min        0.000000      0.000000      0.000000  \n",
       "25%        0.000000      0.000000      0.000000  \n",
       "50%        0.000000      0.000000      0.000000  \n",
       "75%        0.000000      0.000000      0.000000  \n",
       "max       14.000000      8.000000     16.000000  "
      ]
     },
     "execution_count": 4,
     "metadata": {},
     "output_type": "execute_result"
    }
   ],
   "source": [
    "data.describe()"
   ]
  },
  {
   "cell_type": "markdown",
   "id": "14f14812",
   "metadata": {
    "papermill": {
     "duration": 0.023189,
     "end_time": "2024-03-04T14:02:52.326068",
     "exception": false,
     "start_time": "2024-03-04T14:02:52.302879",
     "status": "completed"
    },
    "tags": []
   },
   "source": [
    "# 📌Treating Missing Values"
   ]
  },
  {
   "cell_type": "code",
   "execution_count": 5,
   "id": "5ab93677",
   "metadata": {
    "execution": {
     "iopub.execute_input": "2024-03-04T14:02:52.378760Z",
     "iopub.status.busy": "2024-03-04T14:02:52.377349Z",
     "iopub.status.idle": "2024-03-04T14:02:52.394673Z",
     "shell.execute_reply": "2024-03-04T14:02:52.393469Z"
    },
    "papermill": {
     "duration": 0.047176,
     "end_time": "2024-03-04T14:02:52.397657",
     "exception": false,
     "start_time": "2024-03-04T14:02:52.350481",
     "status": "completed"
    },
    "tags": []
   },
   "outputs": [
    {
     "data": {
      "text/plain": [
       "gradyear              0\n",
       "gender             1337\n",
       "age                2496\n",
       "NumberOffriends       0\n",
       "basketball            0\n",
       "football              0\n",
       "soccer                0\n",
       "softball              0\n",
       "volleyball            0\n",
       "swimming              0\n",
       "cheerleading          0\n",
       "baseball              0\n",
       "tennis                0\n",
       "sports                0\n",
       "cute                  0\n",
       "sex                   0\n",
       "sexy                  0\n",
       "hot                   0\n",
       "kissed                0\n",
       "dance                 0\n",
       "band                  0\n",
       "marching              0\n",
       "music                 0\n",
       "rock                  0\n",
       "god                   0\n",
       "church                0\n",
       "jesus                 0\n",
       "bible                 0\n",
       "hair                  0\n",
       "dress                 0\n",
       "blonde                0\n",
       "mall                  0\n",
       "shopping              0\n",
       "clothes               0\n",
       "hollister             0\n",
       "abercrombie           0\n",
       "die                   0\n",
       "death                 0\n",
       "drunk                 0\n",
       "drugs                 0\n",
       "dtype: int64"
      ]
     },
     "execution_count": 5,
     "metadata": {},
     "output_type": "execute_result"
    }
   ],
   "source": [
    "data.isnull().sum()"
   ]
  },
  {
   "cell_type": "markdown",
   "id": "af83c882",
   "metadata": {
    "papermill": {
     "duration": 0.026175,
     "end_time": "2024-03-04T14:02:52.448495",
     "exception": false,
     "start_time": "2024-03-04T14:02:52.422320",
     "status": "completed"
    },
    "tags": []
   },
   "source": [
    "**A total of 2496 records have missing ages. Also concerning is the fact that the minimum and maximum values seem to be unreasonable; it is unlikely that a 3 year old or a 106 year old is attending high school.**"
   ]
  },
  {
   "cell_type": "markdown",
   "id": "fdf946f6",
   "metadata": {
    "papermill": {
     "duration": 0.022814,
     "end_time": "2024-03-04T14:02:52.494958",
     "exception": false,
     "start_time": "2024-03-04T14:02:52.472144",
     "status": "completed"
    },
    "tags": []
   },
   "source": [
    "# 📌Let's have a look at the number of male, female and missing values"
   ]
  },
  {
   "cell_type": "code",
   "execution_count": 6,
   "id": "ad294fbd",
   "metadata": {
    "execution": {
     "iopub.execute_input": "2024-03-04T14:02:52.559639Z",
     "iopub.status.busy": "2024-03-04T14:02:52.559022Z",
     "iopub.status.idle": "2024-03-04T14:02:52.581574Z",
     "shell.execute_reply": "2024-03-04T14:02:52.580311Z"
    },
    "papermill": {
     "duration": 0.060092,
     "end_time": "2024-03-04T14:02:52.584407",
     "exception": false,
     "start_time": "2024-03-04T14:02:52.524315",
     "status": "completed"
    },
    "tags": []
   },
   "outputs": [
    {
     "data": {
      "text/plain": [
       "gender\n",
       "F      11057\n",
       "M       2606\n",
       "NaN     1337\n",
       "Name: count, dtype: int64"
      ]
     },
     "execution_count": 6,
     "metadata": {},
     "output_type": "execute_result"
    }
   ],
   "source": [
    "data['gender'].value_counts(dropna = False) #display NaN values also"
   ]
  },
  {
   "cell_type": "markdown",
   "id": "0ea78754",
   "metadata": {
    "papermill": {
     "duration": 0.032658,
     "end_time": "2024-03-04T14:02:52.650465",
     "exception": false,
     "start_time": "2024-03-04T14:02:52.617807",
     "status": "completed"
    },
    "tags": []
   },
   "source": [
    "**There are 11057 female, 2606 male teen students and 1337 missing values**"
   ]
  },
  {
   "cell_type": "markdown",
   "id": "ead60ed1",
   "metadata": {
    "papermill": {
     "duration": 0.031816,
     "end_time": "2024-03-04T14:02:52.709895",
     "exception": false,
     "start_time": "2024-03-04T14:02:52.678079",
     "status": "completed"
    },
    "tags": []
   },
   "source": [
    "# 📌Now fill all the null values in gender column with “Not disclosed”"
   ]
  },
  {
   "cell_type": "code",
   "execution_count": 7,
   "id": "5a6f5e59",
   "metadata": {
    "execution": {
     "iopub.execute_input": "2024-03-04T14:02:52.764329Z",
     "iopub.status.busy": "2024-03-04T14:02:52.763552Z",
     "iopub.status.idle": "2024-03-04T14:02:52.773940Z",
     "shell.execute_reply": "2024-03-04T14:02:52.772039Z"
    },
    "papermill": {
     "duration": 0.041081,
     "end_time": "2024-03-04T14:02:52.777434",
     "exception": false,
     "start_time": "2024-03-04T14:02:52.736353",
     "status": "completed"
    },
    "tags": []
   },
   "outputs": [],
   "source": [
    "data['gender'].fillna('not disclosed', inplace = True)\n"
   ]
  },
  {
   "cell_type": "code",
   "execution_count": 8,
   "id": "46f0acfc",
   "metadata": {
    "execution": {
     "iopub.execute_input": "2024-03-04T14:02:52.829902Z",
     "iopub.status.busy": "2024-03-04T14:02:52.829407Z",
     "iopub.status.idle": "2024-03-04T14:02:52.846426Z",
     "shell.execute_reply": "2024-03-04T14:02:52.843892Z"
    },
    "papermill": {
     "duration": 0.048546,
     "end_time": "2024-03-04T14:02:52.850400",
     "exception": false,
     "start_time": "2024-03-04T14:02:52.801854",
     "status": "completed"
    },
    "tags": []
   },
   "outputs": [
    {
     "data": {
      "text/plain": [
       "0"
      ]
     },
     "execution_count": 8,
     "metadata": {},
     "output_type": "execute_result"
    }
   ],
   "source": [
    "data['gender'].isnull().sum()"
   ]
  },
  {
   "cell_type": "code",
   "execution_count": 9,
   "id": "8940c4ab",
   "metadata": {
    "execution": {
     "iopub.execute_input": "2024-03-04T14:02:52.911008Z",
     "iopub.status.busy": "2024-03-04T14:02:52.910293Z",
     "iopub.status.idle": "2024-03-04T14:02:52.926849Z",
     "shell.execute_reply": "2024-03-04T14:02:52.925109Z"
    },
    "papermill": {
     "duration": 0.049176,
     "end_time": "2024-03-04T14:02:52.930099",
     "exception": false,
     "start_time": "2024-03-04T14:02:52.880923",
     "status": "completed"
    },
    "tags": []
   },
   "outputs": [
    {
     "data": {
      "text/plain": [
       "array(['not disclosed', 'F', 'M'], dtype=object)"
      ]
     },
     "execution_count": 9,
     "metadata": {},
     "output_type": "execute_result"
    }
   ],
   "source": [
    "data['gender'].unique()"
   ]
  },
  {
   "cell_type": "markdown",
   "id": "bf950756",
   "metadata": {
    "papermill": {
     "duration": 0.025977,
     "end_time": "2024-03-04T14:02:52.981929",
     "exception": false,
     "start_time": "2024-03-04T14:02:52.955952",
     "status": "completed"
    },
    "tags": []
   },
   "source": [
    "# 📌One way to deal with these missing values would be to fill the missing values with the average age of each graduation year"
   ]
  },
  {
   "cell_type": "code",
   "execution_count": 10,
   "id": "c2ef3103",
   "metadata": {
    "execution": {
     "iopub.execute_input": "2024-03-04T14:02:53.043161Z",
     "iopub.status.busy": "2024-03-04T14:02:53.042075Z",
     "iopub.status.idle": "2024-03-04T14:02:53.060082Z",
     "shell.execute_reply": "2024-03-04T14:02:53.059027Z"
    },
    "papermill": {
     "duration": 0.049098,
     "end_time": "2024-03-04T14:02:53.063270",
     "exception": false,
     "start_time": "2024-03-04T14:02:53.014172",
     "status": "completed"
    },
    "tags": []
   },
   "outputs": [],
   "source": [
    "data['age'] = pd.to_numeric(data['age'], errors='coerce')"
   ]
  },
  {
   "cell_type": "code",
   "execution_count": 11,
   "id": "3e06499a",
   "metadata": {
    "execution": {
     "iopub.execute_input": "2024-03-04T14:02:53.115900Z",
     "iopub.status.busy": "2024-03-04T14:02:53.115062Z",
     "iopub.status.idle": "2024-03-04T14:02:53.141277Z",
     "shell.execute_reply": "2024-03-04T14:02:53.139742Z"
    },
    "papermill": {
     "duration": 0.056083,
     "end_time": "2024-03-04T14:02:53.144513",
     "exception": false,
     "start_time": "2024-03-04T14:02:53.088430",
     "status": "completed"
    },
    "tags": []
   },
   "outputs": [
    {
     "data": {
      "text/plain": [
       "gradyear\n",
       "2006    19.010786\n",
       "2007    18.400134\n",
       "2008    17.593006\n",
       "2009    16.886244\n",
       "Name: age, dtype: float64"
      ]
     },
     "execution_count": 11,
     "metadata": {},
     "output_type": "execute_result"
    }
   ],
   "source": [
    "data.groupby('gradyear')['age'].mean()"
   ]
  },
  {
   "cell_type": "markdown",
   "id": "67888aac",
   "metadata": {
    "papermill": {
     "duration": 0.123205,
     "end_time": "2024-03-04T14:02:53.292434",
     "exception": false,
     "start_time": "2024-03-04T14:02:53.169229",
     "status": "completed"
    },
    "tags": []
   },
   "source": [
    "# 📌Now fill the missing values for each graduation year with the mean that we got as above"
   ]
  },
  {
   "cell_type": "code",
   "execution_count": 12,
   "id": "1aabb0ee",
   "metadata": {
    "execution": {
     "iopub.execute_input": "2024-03-04T14:02:53.348604Z",
     "iopub.status.busy": "2024-03-04T14:02:53.347863Z",
     "iopub.status.idle": "2024-03-04T14:02:53.382198Z",
     "shell.execute_reply": "2024-03-04T14:02:53.381144Z"
    },
    "papermill": {
     "duration": 0.066629,
     "end_time": "2024-03-04T14:02:53.385177",
     "exception": false,
     "start_time": "2024-03-04T14:02:53.318548",
     "status": "completed"
    },
    "tags": []
   },
   "outputs": [],
   "source": [
    "data['age'] = data.groupby('gradyear')['age'].transform(lambda x: x.fillna(x.mean()))"
   ]
  },
  {
   "cell_type": "code",
   "execution_count": 13,
   "id": "fc2abdba",
   "metadata": {
    "execution": {
     "iopub.execute_input": "2024-03-04T14:02:53.436472Z",
     "iopub.status.busy": "2024-03-04T14:02:53.435756Z",
     "iopub.status.idle": "2024-03-04T14:02:53.446034Z",
     "shell.execute_reply": "2024-03-04T14:02:53.444510Z"
    },
    "papermill": {
     "duration": 0.038854,
     "end_time": "2024-03-04T14:02:53.448951",
     "exception": false,
     "start_time": "2024-03-04T14:02:53.410097",
     "status": "completed"
    },
    "tags": []
   },
   "outputs": [
    {
     "data": {
      "text/plain": [
       "0"
      ]
     },
     "execution_count": 13,
     "metadata": {},
     "output_type": "execute_result"
    }
   ],
   "source": [
    "data['age'].isnull().sum()"
   ]
  },
  {
   "cell_type": "markdown",
   "id": "c0bdf6f1",
   "metadata": {
    "papermill": {
     "duration": 0.023421,
     "end_time": "2024-03-04T14:02:53.496448",
     "exception": false,
     "start_time": "2024-03-04T14:02:53.473027",
     "status": "completed"
    },
    "tags": []
   },
   "source": [
    "**From the above summary we can see that there are no missing values in the dataset**"
   ]
  },
  {
   "cell_type": "markdown",
   "id": "3115c759",
   "metadata": {
    "papermill": {
     "duration": 0.023401,
     "end_time": "2024-03-04T14:02:53.544287",
     "exception": false,
     "start_time": "2024-03-04T14:02:53.520886",
     "status": "completed"
    },
    "tags": []
   },
   "source": [
    "# 📌Treating Outliers"
   ]
  },
  {
   "cell_type": "markdown",
   "id": "f6e26350",
   "metadata": {
    "papermill": {
     "duration": 0.024003,
     "end_time": "2024-03-04T14:02:53.594728",
     "exception": false,
     "start_time": "2024-03-04T14:02:53.570725",
     "status": "completed"
    },
    "tags": []
   },
   "source": [
    "**The original age range contains value from 3 - 106, which is unrealistic because student at age of 3 or 106 would not attend high school. A reasonable age range for people attending high school will be the age range between 13 to 21. The rest should be treated as outliers keeping the age of student going to high school in mind.\n",
    "\n",
    "**Let's detect the outliers using a box plot below**"
   ]
  },
  {
   "cell_type": "code",
   "execution_count": 14,
   "id": "52f16cd3",
   "metadata": {
    "execution": {
     "iopub.execute_input": "2024-03-04T14:02:53.646273Z",
     "iopub.status.busy": "2024-03-04T14:02:53.645369Z",
     "iopub.status.idle": "2024-03-04T14:02:54.166285Z",
     "shell.execute_reply": "2024-03-04T14:02:54.164864Z"
    },
    "papermill": {
     "duration": 0.549829,
     "end_time": "2024-03-04T14:02:54.169142",
     "exception": false,
     "start_time": "2024-03-04T14:02:53.619313",
     "status": "completed"
    },
    "tags": []
   },
   "outputs": [
    {
     "data": {
      "image/png": "[encoded data removed]",
      "text/plain": [
       "<Figure size 1000x600 with 1 Axes>"
      ]
     },
     "metadata": {},
     "output_type": "display_data"
    }
   ],
   "source": [
    "sns.set(style=\"whitegrid\") \n",
    "\n",
    "plt.figure(figsize=(10, 6))  \n",
    "\n",
    "sns.boxplot(x=data['age'], color='red')\n",
    "\n",
    "plt.xlabel('Age', fontsize=14)\n",
    "plt.title('Boxplot of Age', fontsize=16)\n",
    "\n",
    "# Show the plot\n",
    "plt.show()\n"
   ]
  },
  {
   "cell_type": "code",
   "execution_count": 15,
   "id": "e881a8cb",
   "metadata": {
    "execution": {
     "iopub.execute_input": "2024-03-04T14:02:54.220120Z",
     "iopub.status.busy": "2024-03-04T14:02:54.219749Z",
     "iopub.status.idle": "2024-03-04T14:02:54.231081Z",
     "shell.execute_reply": "2024-03-04T14:02:54.230158Z"
    },
    "papermill": {
     "duration": 0.040257,
     "end_time": "2024-03-04T14:02:54.234529",
     "exception": false,
     "start_time": "2024-03-04T14:02:54.194272",
     "status": "completed"
    },
    "tags": []
   },
   "outputs": [
    {
     "name": "stdout",
     "output_type": "stream",
     "text": [
      "1.855134201954396\n"
     ]
    }
   ],
   "source": [
    "q1 = data['age'].quantile(0.25)\n",
    "q3 = data['age'].quantile(0.75)\n",
    "iqr = q3-q1\n",
    "print(iqr)"
   ]
  },
  {
   "cell_type": "code",
   "execution_count": 16,
   "id": "80b34fd3",
   "metadata": {
    "execution": {
     "iopub.execute_input": "2024-03-04T14:02:54.288705Z",
     "iopub.status.busy": "2024-03-04T14:02:54.287883Z",
     "iopub.status.idle": "2024-03-04T14:02:54.301088Z",
     "shell.execute_reply": "2024-03-04T14:02:54.300109Z"
    },
    "papermill": {
     "duration": 0.042848,
     "end_time": "2024-03-04T14:02:54.303929",
     "exception": false,
     "start_time": "2024-03-04T14:02:54.261081",
     "status": "completed"
    },
    "tags": []
   },
   "outputs": [],
   "source": [
    "df = data[(data['age'] > (q1 - 1.5*iqr)) & (data['age'] < (q3 + 1.5*iqr))]"
   ]
  },
  {
   "cell_type": "code",
   "execution_count": 17,
   "id": "a68a2b56",
   "metadata": {
    "execution": {
     "iopub.execute_input": "2024-03-04T14:02:54.355926Z",
     "iopub.status.busy": "2024-03-04T14:02:54.355170Z",
     "iopub.status.idle": "2024-03-04T14:02:54.366737Z",
     "shell.execute_reply": "2024-03-04T14:02:54.365451Z"
    },
    "papermill": {
     "duration": 0.041306,
     "end_time": "2024-03-04T14:02:54.369692",
     "exception": false,
     "start_time": "2024-03-04T14:02:54.328386",
     "status": "completed"
    },
    "tags": []
   },
   "outputs": [
    {
     "data": {
      "text/plain": [
       "count    14824.000000\n",
       "mean        17.392977\n",
       "std          1.134571\n",
       "min         13.843000\n",
       "25%         16.539000\n",
       "50%         17.446000\n",
       "75%         18.400134\n",
       "max         21.065000\n",
       "Name: age, dtype: float64"
      ]
     },
     "execution_count": 17,
     "metadata": {},
     "output_type": "execute_result"
    }
   ],
   "source": [
    "df['age'].describe()"
   ]
  },
  {
   "cell_type": "markdown",
   "id": "af60f11a",
   "metadata": {
    "papermill": {
     "duration": 0.024826,
     "end_time": "2024-03-04T14:02:54.419505",
     "exception": false,
     "start_time": "2024-03-04T14:02:54.394679",
     "status": "completed"
    },
    "tags": []
   },
   "source": [
    "**From the above summary we can observe that after treating the outliers the mininmum age is 13.843000 and the maximum age is 21.065000**"
   ]
  },
  {
   "cell_type": "code",
   "execution_count": 18,
   "id": "e80fff96",
   "metadata": {
    "execution": {
     "iopub.execute_input": "2024-03-04T14:02:54.471302Z",
     "iopub.status.busy": "2024-03-04T14:02:54.470877Z",
     "iopub.status.idle": "2024-03-04T14:02:54.477553Z",
     "shell.execute_reply": "2024-03-04T14:02:54.476697Z"
    },
    "papermill": {
     "duration": 0.035299,
     "end_time": "2024-03-04T14:02:54.479916",
     "exception": false,
     "start_time": "2024-03-04T14:02:54.444617",
     "status": "completed"
    },
    "tags": []
   },
   "outputs": [
    {
     "data": {
      "text/plain": [
       "(14824, 40)"
      ]
     },
     "execution_count": 18,
     "metadata": {},
     "output_type": "execute_result"
    }
   ],
   "source": [
    "df.shape"
   ]
  },
  {
   "cell_type": "code",
   "execution_count": 19,
   "id": "c324d8cf",
   "metadata": {
    "execution": {
     "iopub.execute_input": "2024-03-04T14:02:54.532564Z",
     "iopub.status.busy": "2024-03-04T14:02:54.531711Z",
     "iopub.status.idle": "2024-03-04T14:02:54.786520Z",
     "shell.execute_reply": "2024-03-04T14:02:54.785020Z"
    },
    "papermill": {
     "duration": 0.284086,
     "end_time": "2024-03-04T14:02:54.789454",
     "exception": false,
     "start_time": "2024-03-04T14:02:54.505368",
     "status": "completed"
    },
    "tags": []
   },
   "outputs": [
    {
     "data": {
      "image/png": "[encoded data removed]",
      "text/plain": [
       "<Figure size 640x480 with 1 Axes>"
      ]
     },
     "metadata": {},
     "output_type": "display_data"
    }
   ],
   "source": [
    "sns.boxplot(df[\"age\"])\n",
    "plt.show()"
   ]
  },
  {
   "cell_type": "markdown",
   "id": "29a85d6f",
   "metadata": {
    "papermill": {
     "duration": 0.025184,
     "end_time": "2024-03-04T14:02:54.839801",
     "exception": false,
     "start_time": "2024-03-04T14:02:54.814617",
     "status": "completed"
    },
    "tags": []
   },
   "source": [
    "**From the above boxplot we observe that there are no outliers in the age column**"
   ]
  },
  {
   "cell_type": "markdown",
   "id": "d13c5ff3",
   "metadata": {
    "papermill": {
     "duration": 0.02455,
     "end_time": "2024-03-04T14:02:54.889774",
     "exception": false,
     "start_time": "2024-03-04T14:02:54.865224",
     "status": "completed"
    },
    "tags": []
   },
   "source": [
    "# 📌Data Preprocessing"
   ]
  },
  {
   "cell_type": "code",
   "execution_count": 20,
   "id": "774ba8eb",
   "metadata": {
    "execution": {
     "iopub.execute_input": "2024-03-04T14:02:54.943440Z",
     "iopub.status.busy": "2024-03-04T14:02:54.943012Z",
     "iopub.status.idle": "2024-03-04T14:02:54.954355Z",
     "shell.execute_reply": "2024-03-04T14:02:54.952939Z"
    },
    "papermill": {
     "duration": 0.041533,
     "end_time": "2024-03-04T14:02:54.956909",
     "exception": false,
     "start_time": "2024-03-04T14:02:54.915376",
     "status": "completed"
    },
    "tags": []
   },
   "outputs": [
    {
     "data": {
      "text/plain": [
       "Index(['basketball', 'football', 'soccer', 'softball', 'volleyball',\n",
       "       'swimming', 'cheerleading', 'baseball', 'tennis', 'sports', 'cute',\n",
       "       'sex', 'sexy', 'hot', 'kissed', 'dance', 'band', 'marching', 'music',\n",
       "       'rock', 'god', 'church', 'jesus', 'bible', 'hair', 'dress', 'blonde',\n",
       "       'mall', 'shopping', 'clothes', 'hollister', 'abercrombie', 'die',\n",
       "       'death', 'drunk', 'drugs'],\n",
       "      dtype='object')"
      ]
     },
     "execution_count": 20,
     "metadata": {},
     "output_type": "execute_result"
    }
   ],
   "source": [
    "names = df.columns[4:40]\n",
    "scaled_feature = data.copy()\n",
    "names"
   ]
  },
  {
   "cell_type": "code",
   "execution_count": 21,
   "id": "73e418c4",
   "metadata": {
    "execution": {
     "iopub.execute_input": "2024-03-04T14:02:55.011415Z",
     "iopub.status.busy": "2024-03-04T14:02:55.010555Z",
     "iopub.status.idle": "2024-03-04T14:02:55.037675Z",
     "shell.execute_reply": "2024-03-04T14:02:55.036390Z"
    },
    "papermill": {
     "duration": 0.058016,
     "end_time": "2024-03-04T14:02:55.040683",
     "exception": false,
     "start_time": "2024-03-04T14:02:54.982667",
     "status": "completed"
    },
    "tags": []
   },
   "outputs": [
    {
     "data": {
      "text/html": [
       "<div>\n",
       "<style scoped>\n",
       "    .dataframe tbody tr th:only-of-type {\n",
       "        vertical-align: middle;\n",
       "    }\n",
       "\n",
       "    .dataframe tbody tr th {\n",
       "        vertical-align: top;\n",
       "    }\n",
       "\n",
       "    .dataframe thead th {\n",
       "        text-align: right;\n",
       "    }\n",
       "</style>\n",
       "<table border=\"1\" class=\"dataframe\">\n",
       "  <thead>\n",
       "    <tr style=\"text-align: right;\">\n",
       "      <th></th>\n",
       "      <th>gradyear</th>\n",
       "      <th>gender</th>\n",
       "      <th>age</th>\n",
       "      <th>NumberOffriends</th>\n",
       "      <th>basketball</th>\n",
       "      <th>football</th>\n",
       "      <th>soccer</th>\n",
       "      <th>softball</th>\n",
       "      <th>volleyball</th>\n",
       "      <th>swimming</th>\n",
       "      <th>cheerleading</th>\n",
       "      <th>baseball</th>\n",
       "      <th>tennis</th>\n",
       "      <th>sports</th>\n",
       "      <th>cute</th>\n",
       "      <th>sex</th>\n",
       "      <th>sexy</th>\n",
       "      <th>hot</th>\n",
       "      <th>kissed</th>\n",
       "      <th>dance</th>\n",
       "      <th>band</th>\n",
       "      <th>marching</th>\n",
       "      <th>music</th>\n",
       "      <th>rock</th>\n",
       "      <th>god</th>\n",
       "      <th>church</th>\n",
       "      <th>jesus</th>\n",
       "      <th>bible</th>\n",
       "      <th>hair</th>\n",
       "      <th>dress</th>\n",
       "      <th>blonde</th>\n",
       "      <th>mall</th>\n",
       "      <th>shopping</th>\n",
       "      <th>clothes</th>\n",
       "      <th>hollister</th>\n",
       "      <th>abercrombie</th>\n",
       "      <th>die</th>\n",
       "      <th>death</th>\n",
       "      <th>drunk</th>\n",
       "      <th>drugs</th>\n",
       "    </tr>\n",
       "  </thead>\n",
       "  <tbody>\n",
       "    <tr>\n",
       "      <th>0</th>\n",
       "      <td>2007</td>\n",
       "      <td>not disclosed</td>\n",
       "      <td>18.400134</td>\n",
       "      <td>0</td>\n",
       "      <td>0</td>\n",
       "      <td>0</td>\n",
       "      <td>0</td>\n",
       "      <td>0</td>\n",
       "      <td>0</td>\n",
       "      <td>0</td>\n",
       "      <td>0</td>\n",
       "      <td>0</td>\n",
       "      <td>0</td>\n",
       "      <td>0</td>\n",
       "      <td>0</td>\n",
       "      <td>0</td>\n",
       "      <td>0</td>\n",
       "      <td>0</td>\n",
       "      <td>0</td>\n",
       "      <td>0</td>\n",
       "      <td>0</td>\n",
       "      <td>0</td>\n",
       "      <td>0</td>\n",
       "      <td>0</td>\n",
       "      <td>0</td>\n",
       "      <td>0</td>\n",
       "      <td>0</td>\n",
       "      <td>0</td>\n",
       "      <td>0</td>\n",
       "      <td>0</td>\n",
       "      <td>0</td>\n",
       "      <td>0</td>\n",
       "      <td>0</td>\n",
       "      <td>0</td>\n",
       "      <td>0</td>\n",
       "      <td>0</td>\n",
       "      <td>0</td>\n",
       "      <td>0</td>\n",
       "      <td>0</td>\n",
       "      <td>0</td>\n",
       "    </tr>\n",
       "    <tr>\n",
       "      <th>1</th>\n",
       "      <td>2007</td>\n",
       "      <td>F</td>\n",
       "      <td>17.410000</td>\n",
       "      <td>49</td>\n",
       "      <td>0</td>\n",
       "      <td>0</td>\n",
       "      <td>1</td>\n",
       "      <td>0</td>\n",
       "      <td>0</td>\n",
       "      <td>1</td>\n",
       "      <td>0</td>\n",
       "      <td>0</td>\n",
       "      <td>0</td>\n",
       "      <td>0</td>\n",
       "      <td>0</td>\n",
       "      <td>0</td>\n",
       "      <td>0</td>\n",
       "      <td>0</td>\n",
       "      <td>0</td>\n",
       "      <td>0</td>\n",
       "      <td>0</td>\n",
       "      <td>0</td>\n",
       "      <td>0</td>\n",
       "      <td>0</td>\n",
       "      <td>1</td>\n",
       "      <td>0</td>\n",
       "      <td>0</td>\n",
       "      <td>0</td>\n",
       "      <td>0</td>\n",
       "      <td>0</td>\n",
       "      <td>0</td>\n",
       "      <td>0</td>\n",
       "      <td>0</td>\n",
       "      <td>0</td>\n",
       "      <td>0</td>\n",
       "      <td>0</td>\n",
       "      <td>0</td>\n",
       "      <td>0</td>\n",
       "      <td>1</td>\n",
       "      <td>0</td>\n",
       "    </tr>\n",
       "    <tr>\n",
       "      <th>2</th>\n",
       "      <td>2007</td>\n",
       "      <td>F</td>\n",
       "      <td>17.511000</td>\n",
       "      <td>41</td>\n",
       "      <td>0</td>\n",
       "      <td>0</td>\n",
       "      <td>0</td>\n",
       "      <td>0</td>\n",
       "      <td>0</td>\n",
       "      <td>0</td>\n",
       "      <td>0</td>\n",
       "      <td>1</td>\n",
       "      <td>0</td>\n",
       "      <td>0</td>\n",
       "      <td>0</td>\n",
       "      <td>3</td>\n",
       "      <td>0</td>\n",
       "      <td>0</td>\n",
       "      <td>0</td>\n",
       "      <td>0</td>\n",
       "      <td>0</td>\n",
       "      <td>0</td>\n",
       "      <td>1</td>\n",
       "      <td>2</td>\n",
       "      <td>0</td>\n",
       "      <td>1</td>\n",
       "      <td>0</td>\n",
       "      <td>0</td>\n",
       "      <td>4</td>\n",
       "      <td>0</td>\n",
       "      <td>0</td>\n",
       "      <td>1</td>\n",
       "      <td>0</td>\n",
       "      <td>0</td>\n",
       "      <td>0</td>\n",
       "      <td>0</td>\n",
       "      <td>0</td>\n",
       "      <td>0</td>\n",
       "      <td>1</td>\n",
       "      <td>1</td>\n",
       "    </tr>\n",
       "    <tr>\n",
       "      <th>3</th>\n",
       "      <td>2006</td>\n",
       "      <td>F</td>\n",
       "      <td>19.010786</td>\n",
       "      <td>36</td>\n",
       "      <td>0</td>\n",
       "      <td>0</td>\n",
       "      <td>0</td>\n",
       "      <td>0</td>\n",
       "      <td>0</td>\n",
       "      <td>0</td>\n",
       "      <td>0</td>\n",
       "      <td>0</td>\n",
       "      <td>0</td>\n",
       "      <td>0</td>\n",
       "      <td>0</td>\n",
       "      <td>0</td>\n",
       "      <td>0</td>\n",
       "      <td>0</td>\n",
       "      <td>0</td>\n",
       "      <td>0</td>\n",
       "      <td>0</td>\n",
       "      <td>0</td>\n",
       "      <td>0</td>\n",
       "      <td>0</td>\n",
       "      <td>0</td>\n",
       "      <td>0</td>\n",
       "      <td>0</td>\n",
       "      <td>0</td>\n",
       "      <td>0</td>\n",
       "      <td>0</td>\n",
       "      <td>0</td>\n",
       "      <td>0</td>\n",
       "      <td>0</td>\n",
       "      <td>0</td>\n",
       "      <td>0</td>\n",
       "      <td>0</td>\n",
       "      <td>0</td>\n",
       "      <td>0</td>\n",
       "      <td>0</td>\n",
       "      <td>0</td>\n",
       "    </tr>\n",
       "    <tr>\n",
       "      <th>4</th>\n",
       "      <td>2008</td>\n",
       "      <td>F</td>\n",
       "      <td>16.657000</td>\n",
       "      <td>1</td>\n",
       "      <td>0</td>\n",
       "      <td>0</td>\n",
       "      <td>0</td>\n",
       "      <td>0</td>\n",
       "      <td>0</td>\n",
       "      <td>1</td>\n",
       "      <td>0</td>\n",
       "      <td>0</td>\n",
       "      <td>3</td>\n",
       "      <td>0</td>\n",
       "      <td>6</td>\n",
       "      <td>0</td>\n",
       "      <td>2</td>\n",
       "      <td>0</td>\n",
       "      <td>0</td>\n",
       "      <td>0</td>\n",
       "      <td>0</td>\n",
       "      <td>0</td>\n",
       "      <td>1</td>\n",
       "      <td>0</td>\n",
       "      <td>1</td>\n",
       "      <td>1</td>\n",
       "      <td>0</td>\n",
       "      <td>0</td>\n",
       "      <td>5</td>\n",
       "      <td>0</td>\n",
       "      <td>0</td>\n",
       "      <td>0</td>\n",
       "      <td>0</td>\n",
       "      <td>3</td>\n",
       "      <td>0</td>\n",
       "      <td>0</td>\n",
       "      <td>0</td>\n",
       "      <td>0</td>\n",
       "      <td>0</td>\n",
       "      <td>0</td>\n",
       "    </tr>\n",
       "  </tbody>\n",
       "</table>\n",
       "</div>"
      ],
      "text/plain": [
       "   gradyear         gender        age  NumberOffriends  basketball  football  \\\n",
       "0      2007  not disclosed  18.400134                0           0         0   \n",
       "1      2007              F  17.410000               49           0         0   \n",
       "2      2007              F  17.511000               41           0         0   \n",
       "3      2006              F  19.010786               36           0         0   \n",
       "4      2008              F  16.657000                1           0         0   \n",
       "\n",
       "   soccer  softball  volleyball  swimming  cheerleading  baseball  tennis  \\\n",
       "0       0         0           0         0             0         0       0   \n",
       "1       1         0           0         1             0         0       0   \n",
       "2       0         0           0         0             0         1       0   \n",
       "3       0         0           0         0             0         0       0   \n",
       "4       0         0           0         1             0         0       3   \n",
       "\n",
       "   sports  cute  sex  sexy  hot  kissed  dance  band  marching  music  rock  \\\n",
       "0       0     0    0     0    0       0      0     0         0      0     0   \n",
       "1       0     0    0     0    0       0      0     0         0      0     0   \n",
       "2       0     0    3     0    0       0      0     0         0      1     2   \n",
       "3       0     0    0     0    0       0      0     0         0      0     0   \n",
       "4       0     6    0     2    0       0      0     0         0      1     0   \n",
       "\n",
       "   god  church  jesus  bible  hair  dress  blonde  mall  shopping  clothes  \\\n",
       "0    0       0      0      0     0      0       0     0         0        0   \n",
       "1    1       0      0      0     0      0       0     0         0        0   \n",
       "2    0       1      0      0     4      0       0     1         0        0   \n",
       "3    0       0      0      0     0      0       0     0         0        0   \n",
       "4    1       1      0      0     5      0       0     0         0        3   \n",
       "\n",
       "   hollister  abercrombie  die  death  drunk  drugs  \n",
       "0          0            0    0      0      0      0  \n",
       "1          0            0    0      0      1      0  \n",
       "2          0            0    0      0      1      1  \n",
       "3          0            0    0      0      0      0  \n",
       "4          0            0    0      0      0      0  "
      ]
     },
     "execution_count": 21,
     "metadata": {},
     "output_type": "execute_result"
    }
   ],
   "source": [
    "scaled_feature.head()"
   ]
  },
  {
   "cell_type": "code",
   "execution_count": 22,
   "id": "39c81d8c",
   "metadata": {
    "execution": {
     "iopub.execute_input": "2024-03-04T14:02:55.094858Z",
     "iopub.status.busy": "2024-03-04T14:02:55.094355Z",
     "iopub.status.idle": "2024-03-04T14:02:55.104690Z",
     "shell.execute_reply": "2024-03-04T14:02:55.103372Z"
    },
    "papermill": {
     "duration": 0.040293,
     "end_time": "2024-03-04T14:02:55.107572",
     "exception": false,
     "start_time": "2024-03-04T14:02:55.067279",
     "status": "completed"
    },
    "tags": []
   },
   "outputs": [],
   "source": [
    "features = scaled_feature[names]"
   ]
  },
  {
   "cell_type": "code",
   "execution_count": 23,
   "id": "b4b17455",
   "metadata": {
    "execution": {
     "iopub.execute_input": "2024-03-04T14:02:55.162330Z",
     "iopub.status.busy": "2024-03-04T14:02:55.161497Z",
     "iopub.status.idle": "2024-03-04T14:02:55.189553Z",
     "shell.execute_reply": "2024-03-04T14:02:55.188278Z"
    },
    "papermill": {
     "duration": 0.058351,
     "end_time": "2024-03-04T14:02:55.192048",
     "exception": false,
     "start_time": "2024-03-04T14:02:55.133697",
     "status": "completed"
    },
    "tags": []
   },
   "outputs": [
    {
     "data": {
      "text/html": [
       "<div>\n",
       "<style scoped>\n",
       "    .dataframe tbody tr th:only-of-type {\n",
       "        vertical-align: middle;\n",
       "    }\n",
       "\n",
       "    .dataframe tbody tr th {\n",
       "        vertical-align: top;\n",
       "    }\n",
       "\n",
       "    .dataframe thead th {\n",
       "        text-align: right;\n",
       "    }\n",
       "</style>\n",
       "<table border=\"1\" class=\"dataframe\">\n",
       "  <thead>\n",
       "    <tr style=\"text-align: right;\">\n",
       "      <th></th>\n",
       "      <th>basketball</th>\n",
       "      <th>football</th>\n",
       "      <th>soccer</th>\n",
       "      <th>softball</th>\n",
       "      <th>volleyball</th>\n",
       "      <th>swimming</th>\n",
       "      <th>cheerleading</th>\n",
       "      <th>baseball</th>\n",
       "      <th>tennis</th>\n",
       "      <th>sports</th>\n",
       "      <th>cute</th>\n",
       "      <th>sex</th>\n",
       "      <th>sexy</th>\n",
       "      <th>hot</th>\n",
       "      <th>kissed</th>\n",
       "      <th>dance</th>\n",
       "      <th>band</th>\n",
       "      <th>marching</th>\n",
       "      <th>music</th>\n",
       "      <th>rock</th>\n",
       "      <th>god</th>\n",
       "      <th>church</th>\n",
       "      <th>jesus</th>\n",
       "      <th>bible</th>\n",
       "      <th>hair</th>\n",
       "      <th>dress</th>\n",
       "      <th>blonde</th>\n",
       "      <th>mall</th>\n",
       "      <th>shopping</th>\n",
       "      <th>clothes</th>\n",
       "      <th>hollister</th>\n",
       "      <th>abercrombie</th>\n",
       "      <th>die</th>\n",
       "      <th>death</th>\n",
       "      <th>drunk</th>\n",
       "      <th>drugs</th>\n",
       "    </tr>\n",
       "  </thead>\n",
       "  <tbody>\n",
       "    <tr>\n",
       "      <th>0</th>\n",
       "      <td>0</td>\n",
       "      <td>0</td>\n",
       "      <td>0</td>\n",
       "      <td>0</td>\n",
       "      <td>0</td>\n",
       "      <td>0</td>\n",
       "      <td>0</td>\n",
       "      <td>0</td>\n",
       "      <td>0</td>\n",
       "      <td>0</td>\n",
       "      <td>0</td>\n",
       "      <td>0</td>\n",
       "      <td>0</td>\n",
       "      <td>0</td>\n",
       "      <td>0</td>\n",
       "      <td>0</td>\n",
       "      <td>0</td>\n",
       "      <td>0</td>\n",
       "      <td>0</td>\n",
       "      <td>0</td>\n",
       "      <td>0</td>\n",
       "      <td>0</td>\n",
       "      <td>0</td>\n",
       "      <td>0</td>\n",
       "      <td>0</td>\n",
       "      <td>0</td>\n",
       "      <td>0</td>\n",
       "      <td>0</td>\n",
       "      <td>0</td>\n",
       "      <td>0</td>\n",
       "      <td>0</td>\n",
       "      <td>0</td>\n",
       "      <td>0</td>\n",
       "      <td>0</td>\n",
       "      <td>0</td>\n",
       "      <td>0</td>\n",
       "    </tr>\n",
       "    <tr>\n",
       "      <th>1</th>\n",
       "      <td>0</td>\n",
       "      <td>0</td>\n",
       "      <td>1</td>\n",
       "      <td>0</td>\n",
       "      <td>0</td>\n",
       "      <td>1</td>\n",
       "      <td>0</td>\n",
       "      <td>0</td>\n",
       "      <td>0</td>\n",
       "      <td>0</td>\n",
       "      <td>0</td>\n",
       "      <td>0</td>\n",
       "      <td>0</td>\n",
       "      <td>0</td>\n",
       "      <td>0</td>\n",
       "      <td>0</td>\n",
       "      <td>0</td>\n",
       "      <td>0</td>\n",
       "      <td>0</td>\n",
       "      <td>0</td>\n",
       "      <td>1</td>\n",
       "      <td>0</td>\n",
       "      <td>0</td>\n",
       "      <td>0</td>\n",
       "      <td>0</td>\n",
       "      <td>0</td>\n",
       "      <td>0</td>\n",
       "      <td>0</td>\n",
       "      <td>0</td>\n",
       "      <td>0</td>\n",
       "      <td>0</td>\n",
       "      <td>0</td>\n",
       "      <td>0</td>\n",
       "      <td>0</td>\n",
       "      <td>1</td>\n",
       "      <td>0</td>\n",
       "    </tr>\n",
       "    <tr>\n",
       "      <th>2</th>\n",
       "      <td>0</td>\n",
       "      <td>0</td>\n",
       "      <td>0</td>\n",
       "      <td>0</td>\n",
       "      <td>0</td>\n",
       "      <td>0</td>\n",
       "      <td>0</td>\n",
       "      <td>1</td>\n",
       "      <td>0</td>\n",
       "      <td>0</td>\n",
       "      <td>0</td>\n",
       "      <td>3</td>\n",
       "      <td>0</td>\n",
       "      <td>0</td>\n",
       "      <td>0</td>\n",
       "      <td>0</td>\n",
       "      <td>0</td>\n",
       "      <td>0</td>\n",
       "      <td>1</td>\n",
       "      <td>2</td>\n",
       "      <td>0</td>\n",
       "      <td>1</td>\n",
       "      <td>0</td>\n",
       "      <td>0</td>\n",
       "      <td>4</td>\n",
       "      <td>0</td>\n",
       "      <td>0</td>\n",
       "      <td>1</td>\n",
       "      <td>0</td>\n",
       "      <td>0</td>\n",
       "      <td>0</td>\n",
       "      <td>0</td>\n",
       "      <td>0</td>\n",
       "      <td>0</td>\n",
       "      <td>1</td>\n",
       "      <td>1</td>\n",
       "    </tr>\n",
       "    <tr>\n",
       "      <th>3</th>\n",
       "      <td>0</td>\n",
       "      <td>0</td>\n",
       "      <td>0</td>\n",
       "      <td>0</td>\n",
       "      <td>0</td>\n",
       "      <td>0</td>\n",
       "      <td>0</td>\n",
       "      <td>0</td>\n",
       "      <td>0</td>\n",
       "      <td>0</td>\n",
       "      <td>0</td>\n",
       "      <td>0</td>\n",
       "      <td>0</td>\n",
       "      <td>0</td>\n",
       "      <td>0</td>\n",
       "      <td>0</td>\n",
       "      <td>0</td>\n",
       "      <td>0</td>\n",
       "      <td>0</td>\n",
       "      <td>0</td>\n",
       "      <td>0</td>\n",
       "      <td>0</td>\n",
       "      <td>0</td>\n",
       "      <td>0</td>\n",
       "      <td>0</td>\n",
       "      <td>0</td>\n",
       "      <td>0</td>\n",
       "      <td>0</td>\n",
       "      <td>0</td>\n",
       "      <td>0</td>\n",
       "      <td>0</td>\n",
       "      <td>0</td>\n",
       "      <td>0</td>\n",
       "      <td>0</td>\n",
       "      <td>0</td>\n",
       "      <td>0</td>\n",
       "    </tr>\n",
       "    <tr>\n",
       "      <th>4</th>\n",
       "      <td>0</td>\n",
       "      <td>0</td>\n",
       "      <td>0</td>\n",
       "      <td>0</td>\n",
       "      <td>0</td>\n",
       "      <td>1</td>\n",
       "      <td>0</td>\n",
       "      <td>0</td>\n",
       "      <td>3</td>\n",
       "      <td>0</td>\n",
       "      <td>6</td>\n",
       "      <td>0</td>\n",
       "      <td>2</td>\n",
       "      <td>0</td>\n",
       "      <td>0</td>\n",
       "      <td>0</td>\n",
       "      <td>0</td>\n",
       "      <td>0</td>\n",
       "      <td>1</td>\n",
       "      <td>0</td>\n",
       "      <td>1</td>\n",
       "      <td>1</td>\n",
       "      <td>0</td>\n",
       "      <td>0</td>\n",
       "      <td>5</td>\n",
       "      <td>0</td>\n",
       "      <td>0</td>\n",
       "      <td>0</td>\n",
       "      <td>0</td>\n",
       "      <td>3</td>\n",
       "      <td>0</td>\n",
       "      <td>0</td>\n",
       "      <td>0</td>\n",
       "      <td>0</td>\n",
       "      <td>0</td>\n",
       "      <td>0</td>\n",
       "    </tr>\n",
       "  </tbody>\n",
       "</table>\n",
       "</div>"
      ],
      "text/plain": [
       "   basketball  football  soccer  softball  volleyball  swimming  cheerleading  \\\n",
       "0           0         0       0         0           0         0             0   \n",
       "1           0         0       1         0           0         1             0   \n",
       "2           0         0       0         0           0         0             0   \n",
       "3           0         0       0         0           0         0             0   \n",
       "4           0         0       0         0           0         1             0   \n",
       "\n",
       "   baseball  tennis  sports  cute  sex  sexy  hot  kissed  dance  band  \\\n",
       "0         0       0       0     0    0     0    0       0      0     0   \n",
       "1         0       0       0     0    0     0    0       0      0     0   \n",
       "2         1       0       0     0    3     0    0       0      0     0   \n",
       "3         0       0       0     0    0     0    0       0      0     0   \n",
       "4         0       3       0     6    0     2    0       0      0     0   \n",
       "\n",
       "   marching  music  rock  god  church  jesus  bible  hair  dress  blonde  \\\n",
       "0         0      0     0    0       0      0      0     0      0       0   \n",
       "1         0      0     0    1       0      0      0     0      0       0   \n",
       "2         0      1     2    0       1      0      0     4      0       0   \n",
       "3         0      0     0    0       0      0      0     0      0       0   \n",
       "4         0      1     0    1       1      0      0     5      0       0   \n",
       "\n",
       "   mall  shopping  clothes  hollister  abercrombie  die  death  drunk  drugs  \n",
       "0     0         0        0          0            0    0      0      0      0  \n",
       "1     0         0        0          0            0    0      0      1      0  \n",
       "2     1         0        0          0            0    0      0      1      1  \n",
       "3     0         0        0          0            0    0      0      0      0  \n",
       "4     0         0        3          0            0    0      0      0      0  "
      ]
     },
     "execution_count": 23,
     "metadata": {},
     "output_type": "execute_result"
    }
   ],
   "source": [
    "features.head()"
   ]
  },
  {
   "cell_type": "code",
   "execution_count": 24,
   "id": "22a135a7",
   "metadata": {
    "execution": {
     "iopub.execute_input": "2024-03-04T14:02:55.247796Z",
     "iopub.status.busy": "2024-03-04T14:02:55.246530Z",
     "iopub.status.idle": "2024-03-04T14:02:55.520877Z",
     "shell.execute_reply": "2024-03-04T14:02:55.519477Z"
    },
    "papermill": {
     "duration": 0.305368,
     "end_time": "2024-03-04T14:02:55.523916",
     "exception": false,
     "start_time": "2024-03-04T14:02:55.218548",
     "status": "completed"
    },
    "tags": []
   },
   "outputs": [],
   "source": [
    "from sklearn.preprocessing import StandardScaler\n",
    "scaler = StandardScaler().fit(features.values)"
   ]
  },
  {
   "cell_type": "code",
   "execution_count": 25,
   "id": "5b8389ec",
   "metadata": {
    "execution": {
     "iopub.execute_input": "2024-03-04T14:02:55.580693Z",
     "iopub.status.busy": "2024-03-04T14:02:55.580260Z",
     "iopub.status.idle": "2024-03-04T14:02:55.588551Z",
     "shell.execute_reply": "2024-03-04T14:02:55.587315Z"
    },
    "papermill": {
     "duration": 0.041361,
     "end_time": "2024-03-04T14:02:55.591671",
     "exception": false,
     "start_time": "2024-03-04T14:02:55.550310",
     "status": "completed"
    },
    "tags": []
   },
   "outputs": [],
   "source": [
    "features = scaler.transform(features.values)"
   ]
  },
  {
   "cell_type": "code",
   "execution_count": 26,
   "id": "46d1ef00",
   "metadata": {
    "execution": {
     "iopub.execute_input": "2024-03-04T14:02:55.647997Z",
     "iopub.status.busy": "2024-03-04T14:02:55.647572Z",
     "iopub.status.idle": "2024-03-04T14:02:55.696215Z",
     "shell.execute_reply": "2024-03-04T14:02:55.694753Z"
    },
    "papermill": {
     "duration": 0.079713,
     "end_time": "2024-03-04T14:02:55.699140",
     "exception": false,
     "start_time": "2024-03-04T14:02:55.619427",
     "status": "completed"
    },
    "tags": []
   },
   "outputs": [
    {
     "data": {
      "text/html": [
       "<div>\n",
       "<style scoped>\n",
       "    .dataframe tbody tr th:only-of-type {\n",
       "        vertical-align: middle;\n",
       "    }\n",
       "\n",
       "    .dataframe tbody tr th {\n",
       "        vertical-align: top;\n",
       "    }\n",
       "\n",
       "    .dataframe thead th {\n",
       "        text-align: right;\n",
       "    }\n",
       "</style>\n",
       "<table border=\"1\" class=\"dataframe\">\n",
       "  <thead>\n",
       "    <tr style=\"text-align: right;\">\n",
       "      <th></th>\n",
       "      <th>gradyear</th>\n",
       "      <th>gender</th>\n",
       "      <th>age</th>\n",
       "      <th>NumberOffriends</th>\n",
       "      <th>basketball</th>\n",
       "      <th>football</th>\n",
       "      <th>soccer</th>\n",
       "      <th>softball</th>\n",
       "      <th>volleyball</th>\n",
       "      <th>swimming</th>\n",
       "      <th>cheerleading</th>\n",
       "      <th>baseball</th>\n",
       "      <th>tennis</th>\n",
       "      <th>sports</th>\n",
       "      <th>cute</th>\n",
       "      <th>sex</th>\n",
       "      <th>sexy</th>\n",
       "      <th>hot</th>\n",
       "      <th>kissed</th>\n",
       "      <th>dance</th>\n",
       "      <th>band</th>\n",
       "      <th>marching</th>\n",
       "      <th>music</th>\n",
       "      <th>rock</th>\n",
       "      <th>god</th>\n",
       "      <th>church</th>\n",
       "      <th>jesus</th>\n",
       "      <th>bible</th>\n",
       "      <th>hair</th>\n",
       "      <th>dress</th>\n",
       "      <th>blonde</th>\n",
       "      <th>mall</th>\n",
       "      <th>shopping</th>\n",
       "      <th>clothes</th>\n",
       "      <th>hollister</th>\n",
       "      <th>abercrombie</th>\n",
       "      <th>die</th>\n",
       "      <th>death</th>\n",
       "      <th>drunk</th>\n",
       "      <th>drugs</th>\n",
       "    </tr>\n",
       "  </thead>\n",
       "  <tbody>\n",
       "    <tr>\n",
       "      <th>0</th>\n",
       "      <td>2007</td>\n",
       "      <td>not disclosed</td>\n",
       "      <td>18.400134</td>\n",
       "      <td>0</td>\n",
       "      <td>-0.338478</td>\n",
       "      <td>-0.36379</td>\n",
       "      <td>-0.241202</td>\n",
       "      <td>-0.21655</td>\n",
       "      <td>-0.223779</td>\n",
       "      <td>-0.246048</td>\n",
       "      <td>-0.209231</td>\n",
       "      <td>-0.200570</td>\n",
       "      <td>-0.166320</td>\n",
       "      <td>-0.301698</td>\n",
       "      <td>-0.404546</td>\n",
       "      <td>-0.167950</td>\n",
       "      <td>-0.269978</td>\n",
       "      <td>-0.268912</td>\n",
       "      <td>-0.194207</td>\n",
       "      <td>-0.369065</td>\n",
       "      <td>-0.280697</td>\n",
       "      <td>-0.141743</td>\n",
       "      <td>-0.613623</td>\n",
       "      <td>-0.331301</td>\n",
       "      <td>-0.355535</td>\n",
       "      <td>-0.309398</td>\n",
       "      <td>-0.191569</td>\n",
       "      <td>-0.09787</td>\n",
       "      <td>-0.395869</td>\n",
       "      <td>-0.252176</td>\n",
       "      <td>-0.041671</td>\n",
       "      <td>-0.368365</td>\n",
       "      <td>-0.490423</td>\n",
       "      <td>-0.313906</td>\n",
       "      <td>-0.201546</td>\n",
       "      <td>-0.183322</td>\n",
       "      <td>-0.304746</td>\n",
       "      <td>-0.259382</td>\n",
       "      <td>-0.218093</td>\n",
       "      <td>-0.174926</td>\n",
       "    </tr>\n",
       "    <tr>\n",
       "      <th>1</th>\n",
       "      <td>2007</td>\n",
       "      <td>F</td>\n",
       "      <td>17.410000</td>\n",
       "      <td>49</td>\n",
       "      <td>-0.338478</td>\n",
       "      <td>-0.36379</td>\n",
       "      <td>0.845295</td>\n",
       "      <td>-0.21655</td>\n",
       "      <td>-0.223779</td>\n",
       "      <td>1.576532</td>\n",
       "      <td>-0.209231</td>\n",
       "      <td>-0.200570</td>\n",
       "      <td>-0.166320</td>\n",
       "      <td>-0.301698</td>\n",
       "      <td>-0.404546</td>\n",
       "      <td>-0.167950</td>\n",
       "      <td>-0.269978</td>\n",
       "      <td>-0.268912</td>\n",
       "      <td>-0.194207</td>\n",
       "      <td>-0.369065</td>\n",
       "      <td>-0.280697</td>\n",
       "      <td>-0.141743</td>\n",
       "      <td>-0.613623</td>\n",
       "      <td>-0.331301</td>\n",
       "      <td>0.393064</td>\n",
       "      <td>-0.309398</td>\n",
       "      <td>-0.191569</td>\n",
       "      <td>-0.09787</td>\n",
       "      <td>-0.395869</td>\n",
       "      <td>-0.252176</td>\n",
       "      <td>-0.041671</td>\n",
       "      <td>-0.368365</td>\n",
       "      <td>-0.490423</td>\n",
       "      <td>-0.313906</td>\n",
       "      <td>-0.201546</td>\n",
       "      <td>-0.183322</td>\n",
       "      <td>-0.304746</td>\n",
       "      <td>-0.259382</td>\n",
       "      <td>2.159369</td>\n",
       "      <td>-0.174926</td>\n",
       "    </tr>\n",
       "    <tr>\n",
       "      <th>2</th>\n",
       "      <td>2007</td>\n",
       "      <td>F</td>\n",
       "      <td>17.511000</td>\n",
       "      <td>41</td>\n",
       "      <td>-0.338478</td>\n",
       "      <td>-0.36379</td>\n",
       "      <td>-0.241202</td>\n",
       "      <td>-0.21655</td>\n",
       "      <td>-0.223779</td>\n",
       "      <td>-0.246048</td>\n",
       "      <td>-0.209231</td>\n",
       "      <td>1.725515</td>\n",
       "      <td>-0.166320</td>\n",
       "      <td>-0.301698</td>\n",
       "      <td>-0.404546</td>\n",
       "      <td>2.179902</td>\n",
       "      <td>-0.269978</td>\n",
       "      <td>-0.268912</td>\n",
       "      <td>-0.194207</td>\n",
       "      <td>-0.369065</td>\n",
       "      <td>-0.280697</td>\n",
       "      <td>-0.141743</td>\n",
       "      <td>0.223592</td>\n",
       "      <td>2.363663</td>\n",
       "      <td>-0.355535</td>\n",
       "      <td>0.955171</td>\n",
       "      <td>-0.191569</td>\n",
       "      <td>-0.09787</td>\n",
       "      <td>3.276381</td>\n",
       "      <td>-0.252176</td>\n",
       "      <td>-0.041671</td>\n",
       "      <td>1.051334</td>\n",
       "      <td>-0.490423</td>\n",
       "      <td>-0.313906</td>\n",
       "      <td>-0.201546</td>\n",
       "      <td>-0.183322</td>\n",
       "      <td>-0.304746</td>\n",
       "      <td>-0.259382</td>\n",
       "      <td>2.159369</td>\n",
       "      <td>2.689582</td>\n",
       "    </tr>\n",
       "    <tr>\n",
       "      <th>3</th>\n",
       "      <td>2006</td>\n",
       "      <td>F</td>\n",
       "      <td>19.010786</td>\n",
       "      <td>36</td>\n",
       "      <td>-0.338478</td>\n",
       "      <td>-0.36379</td>\n",
       "      <td>-0.241202</td>\n",
       "      <td>-0.21655</td>\n",
       "      <td>-0.223779</td>\n",
       "      <td>-0.246048</td>\n",
       "      <td>-0.209231</td>\n",
       "      <td>-0.200570</td>\n",
       "      <td>-0.166320</td>\n",
       "      <td>-0.301698</td>\n",
       "      <td>-0.404546</td>\n",
       "      <td>-0.167950</td>\n",
       "      <td>-0.269978</td>\n",
       "      <td>-0.268912</td>\n",
       "      <td>-0.194207</td>\n",
       "      <td>-0.369065</td>\n",
       "      <td>-0.280697</td>\n",
       "      <td>-0.141743</td>\n",
       "      <td>-0.613623</td>\n",
       "      <td>-0.331301</td>\n",
       "      <td>-0.355535</td>\n",
       "      <td>-0.309398</td>\n",
       "      <td>-0.191569</td>\n",
       "      <td>-0.09787</td>\n",
       "      <td>-0.395869</td>\n",
       "      <td>-0.252176</td>\n",
       "      <td>-0.041671</td>\n",
       "      <td>-0.368365</td>\n",
       "      <td>-0.490423</td>\n",
       "      <td>-0.313906</td>\n",
       "      <td>-0.201546</td>\n",
       "      <td>-0.183322</td>\n",
       "      <td>-0.304746</td>\n",
       "      <td>-0.259382</td>\n",
       "      <td>-0.218093</td>\n",
       "      <td>-0.174926</td>\n",
       "    </tr>\n",
       "    <tr>\n",
       "      <th>4</th>\n",
       "      <td>2008</td>\n",
       "      <td>F</td>\n",
       "      <td>16.657000</td>\n",
       "      <td>1</td>\n",
       "      <td>-0.338478</td>\n",
       "      <td>-0.36379</td>\n",
       "      <td>-0.241202</td>\n",
       "      <td>-0.21655</td>\n",
       "      <td>-0.223779</td>\n",
       "      <td>1.576532</td>\n",
       "      <td>-0.209231</td>\n",
       "      <td>-0.200570</td>\n",
       "      <td>5.490828</td>\n",
       "      <td>-0.301698</td>\n",
       "      <td>6.994189</td>\n",
       "      <td>-0.167950</td>\n",
       "      <td>3.637091</td>\n",
       "      <td>-0.268912</td>\n",
       "      <td>-0.194207</td>\n",
       "      <td>-0.369065</td>\n",
       "      <td>-0.280697</td>\n",
       "      <td>-0.141743</td>\n",
       "      <td>0.223592</td>\n",
       "      <td>-0.331301</td>\n",
       "      <td>0.393064</td>\n",
       "      <td>0.955171</td>\n",
       "      <td>-0.191569</td>\n",
       "      <td>-0.09787</td>\n",
       "      <td>4.194444</td>\n",
       "      <td>-0.252176</td>\n",
       "      <td>-0.041671</td>\n",
       "      <td>-0.368365</td>\n",
       "      <td>-0.490423</td>\n",
       "      <td>5.953073</td>\n",
       "      <td>-0.201546</td>\n",
       "      <td>-0.183322</td>\n",
       "      <td>-0.304746</td>\n",
       "      <td>-0.259382</td>\n",
       "      <td>-0.218093</td>\n",
       "      <td>-0.174926</td>\n",
       "    </tr>\n",
       "  </tbody>\n",
       "</table>\n",
       "</div>"
      ],
      "text/plain": [
       "   gradyear         gender        age  NumberOffriends  basketball  football  \\\n",
       "0      2007  not disclosed  18.400134                0   -0.338478  -0.36379   \n",
       "1      2007              F  17.410000               49   -0.338478  -0.36379   \n",
       "2      2007              F  17.511000               41   -0.338478  -0.36379   \n",
       "3      2006              F  19.010786               36   -0.338478  -0.36379   \n",
       "4      2008              F  16.657000                1   -0.338478  -0.36379   \n",
       "\n",
       "     soccer  softball  volleyball  swimming  cheerleading  baseball    tennis  \\\n",
       "0 -0.241202  -0.21655   -0.223779 -0.246048     -0.209231 -0.200570 -0.166320   \n",
       "1  0.845295  -0.21655   -0.223779  1.576532     -0.209231 -0.200570 -0.166320   \n",
       "2 -0.241202  -0.21655   -0.223779 -0.246048     -0.209231  1.725515 -0.166320   \n",
       "3 -0.241202  -0.21655   -0.223779 -0.246048     -0.209231 -0.200570 -0.166320   \n",
       "4 -0.241202  -0.21655   -0.223779  1.576532     -0.209231 -0.200570  5.490828   \n",
       "\n",
       "     sports      cute       sex      sexy       hot    kissed     dance  \\\n",
       "0 -0.301698 -0.404546 -0.167950 -0.269978 -0.268912 -0.194207 -0.369065   \n",
       "1 -0.301698 -0.404546 -0.167950 -0.269978 -0.268912 -0.194207 -0.369065   \n",
       "2 -0.301698 -0.404546  2.179902 -0.269978 -0.268912 -0.194207 -0.369065   \n",
       "3 -0.301698 -0.404546 -0.167950 -0.269978 -0.268912 -0.194207 -0.369065   \n",
       "4 -0.301698  6.994189 -0.167950  3.637091 -0.268912 -0.194207 -0.369065   \n",
       "\n",
       "       band  marching     music      rock       god    church     jesus  \\\n",
       "0 -0.280697 -0.141743 -0.613623 -0.331301 -0.355535 -0.309398 -0.191569   \n",
       "1 -0.280697 -0.141743 -0.613623 -0.331301  0.393064 -0.309398 -0.191569   \n",
       "2 -0.280697 -0.141743  0.223592  2.363663 -0.355535  0.955171 -0.191569   \n",
       "3 -0.280697 -0.141743 -0.613623 -0.331301 -0.355535 -0.309398 -0.191569   \n",
       "4 -0.280697 -0.141743  0.223592 -0.331301  0.393064  0.955171 -0.191569   \n",
       "\n",
       "     bible      hair     dress    blonde      mall  shopping   clothes  \\\n",
       "0 -0.09787 -0.395869 -0.252176 -0.041671 -0.368365 -0.490423 -0.313906   \n",
       "1 -0.09787 -0.395869 -0.252176 -0.041671 -0.368365 -0.490423 -0.313906   \n",
       "2 -0.09787  3.276381 -0.252176 -0.041671  1.051334 -0.490423 -0.313906   \n",
       "3 -0.09787 -0.395869 -0.252176 -0.041671 -0.368365 -0.490423 -0.313906   \n",
       "4 -0.09787  4.194444 -0.252176 -0.041671 -0.368365 -0.490423  5.953073   \n",
       "\n",
       "   hollister  abercrombie       die     death     drunk     drugs  \n",
       "0  -0.201546    -0.183322 -0.304746 -0.259382 -0.218093 -0.174926  \n",
       "1  -0.201546    -0.183322 -0.304746 -0.259382  2.159369 -0.174926  \n",
       "2  -0.201546    -0.183322 -0.304746 -0.259382  2.159369  2.689582  \n",
       "3  -0.201546    -0.183322 -0.304746 -0.259382 -0.218093 -0.174926  \n",
       "4  -0.201546    -0.183322 -0.304746 -0.259382 -0.218093 -0.174926  "
      ]
     },
     "execution_count": 26,
     "metadata": {},
     "output_type": "execute_result"
    }
   ],
   "source": [
    "scaled_feature[names] = features\n",
    "scaled_feature.head()"
   ]
  },
  {
   "cell_type": "markdown",
   "id": "a6f44c01",
   "metadata": {
    "papermill": {
     "duration": 0.02615,
     "end_time": "2024-03-04T14:02:55.753290",
     "exception": false,
     "start_time": "2024-03-04T14:02:55.727140",
     "status": "completed"
    },
    "tags": []
   },
   "source": [
    "# 📌Convert object variable to numeric"
   ]
  },
  {
   "cell_type": "code",
   "execution_count": 27,
   "id": "d511ef04",
   "metadata": {
    "execution": {
     "iopub.execute_input": "2024-03-04T14:02:55.811009Z",
     "iopub.status.busy": "2024-03-04T14:02:55.810536Z",
     "iopub.status.idle": "2024-03-04T14:02:55.817077Z",
     "shell.execute_reply": "2024-03-04T14:02:55.815772Z"
    },
    "papermill": {
     "duration": 0.039699,
     "end_time": "2024-03-04T14:02:55.820036",
     "exception": false,
     "start_time": "2024-03-04T14:02:55.780337",
     "status": "completed"
    },
    "tags": []
   },
   "outputs": [],
   "source": [
    "def gender_to_numeric(x):\n",
    "    if x==\"M\":\n",
    "        return 1\n",
    "    if x==\"F\":\n",
    "        return 2\n",
    "    if x== 'not disclosed':\n",
    "        return 3"
   ]
  },
  {
   "cell_type": "code",
   "execution_count": 28,
   "id": "cc7138f9",
   "metadata": {
    "execution": {
     "iopub.execute_input": "2024-03-04T14:02:55.877189Z",
     "iopub.status.busy": "2024-03-04T14:02:55.876712Z",
     "iopub.status.idle": "2024-03-04T14:02:55.898342Z",
     "shell.execute_reply": "2024-03-04T14:02:55.897451Z"
    },
    "papermill": {
     "duration": 0.052669,
     "end_time": "2024-03-04T14:02:55.900635",
     "exception": false,
     "start_time": "2024-03-04T14:02:55.847966",
     "status": "completed"
    },
    "tags": []
   },
   "outputs": [
    {
     "data": {
      "text/plain": [
       "0    3\n",
       "1    2\n",
       "2    2\n",
       "3    2\n",
       "4    2\n",
       "Name: gender, dtype: int64"
      ]
     },
     "execution_count": 28,
     "metadata": {},
     "output_type": "execute_result"
    }
   ],
   "source": [
    "scaled_feature['gender'] = scaled_feature['gender'].apply(gender_to_numeric)\n",
    "scaled_feature['gender'].head()"
   ]
  },
  {
   "cell_type": "markdown",
   "id": "7dbedaaa",
   "metadata": {
    "papermill": {
     "duration": 0.027308,
     "end_time": "2024-03-04T14:02:55.955290",
     "exception": false,
     "start_time": "2024-03-04T14:02:55.927982",
     "status": "completed"
    },
    "tags": []
   },
   "source": [
    "# 📌Checkig the transformed values"
   ]
  },
  {
   "cell_type": "code",
   "execution_count": 29,
   "id": "6dbec018",
   "metadata": {
    "execution": {
     "iopub.execute_input": "2024-03-04T14:02:56.014556Z",
     "iopub.status.busy": "2024-03-04T14:02:56.013647Z",
     "iopub.status.idle": "2024-03-04T14:02:56.056333Z",
     "shell.execute_reply": "2024-03-04T14:02:56.054894Z"
    },
    "papermill": {
     "duration": 0.076077,
     "end_time": "2024-03-04T14:02:56.059453",
     "exception": false,
     "start_time": "2024-03-04T14:02:55.983376",
     "status": "completed"
    },
    "tags": []
   },
   "outputs": [
    {
     "data": {
      "text/html": [
       "<div>\n",
       "<style scoped>\n",
       "    .dataframe tbody tr th:only-of-type {\n",
       "        vertical-align: middle;\n",
       "    }\n",
       "\n",
       "    .dataframe tbody tr th {\n",
       "        vertical-align: top;\n",
       "    }\n",
       "\n",
       "    .dataframe thead th {\n",
       "        text-align: right;\n",
       "    }\n",
       "</style>\n",
       "<table border=\"1\" class=\"dataframe\">\n",
       "  <thead>\n",
       "    <tr style=\"text-align: right;\">\n",
       "      <th></th>\n",
       "      <th>gradyear</th>\n",
       "      <th>gender</th>\n",
       "      <th>age</th>\n",
       "      <th>NumberOffriends</th>\n",
       "      <th>basketball</th>\n",
       "      <th>football</th>\n",
       "      <th>soccer</th>\n",
       "      <th>softball</th>\n",
       "      <th>volleyball</th>\n",
       "      <th>swimming</th>\n",
       "      <th>cheerleading</th>\n",
       "      <th>baseball</th>\n",
       "      <th>tennis</th>\n",
       "      <th>sports</th>\n",
       "      <th>cute</th>\n",
       "      <th>sex</th>\n",
       "      <th>sexy</th>\n",
       "      <th>hot</th>\n",
       "      <th>kissed</th>\n",
       "      <th>dance</th>\n",
       "      <th>band</th>\n",
       "      <th>marching</th>\n",
       "      <th>music</th>\n",
       "      <th>rock</th>\n",
       "      <th>god</th>\n",
       "      <th>church</th>\n",
       "      <th>jesus</th>\n",
       "      <th>bible</th>\n",
       "      <th>hair</th>\n",
       "      <th>dress</th>\n",
       "      <th>blonde</th>\n",
       "      <th>mall</th>\n",
       "      <th>shopping</th>\n",
       "      <th>clothes</th>\n",
       "      <th>hollister</th>\n",
       "      <th>abercrombie</th>\n",
       "      <th>die</th>\n",
       "      <th>death</th>\n",
       "      <th>drunk</th>\n",
       "      <th>drugs</th>\n",
       "    </tr>\n",
       "  </thead>\n",
       "  <tbody>\n",
       "    <tr>\n",
       "      <th>0</th>\n",
       "      <td>2007</td>\n",
       "      <td>3</td>\n",
       "      <td>18.400134</td>\n",
       "      <td>0</td>\n",
       "      <td>-0.338478</td>\n",
       "      <td>-0.36379</td>\n",
       "      <td>-0.241202</td>\n",
       "      <td>-0.21655</td>\n",
       "      <td>-0.223779</td>\n",
       "      <td>-0.246048</td>\n",
       "      <td>-0.209231</td>\n",
       "      <td>-0.200570</td>\n",
       "      <td>-0.166320</td>\n",
       "      <td>-0.301698</td>\n",
       "      <td>-0.404546</td>\n",
       "      <td>-0.167950</td>\n",
       "      <td>-0.269978</td>\n",
       "      <td>-0.268912</td>\n",
       "      <td>-0.194207</td>\n",
       "      <td>-0.369065</td>\n",
       "      <td>-0.280697</td>\n",
       "      <td>-0.141743</td>\n",
       "      <td>-0.613623</td>\n",
       "      <td>-0.331301</td>\n",
       "      <td>-0.355535</td>\n",
       "      <td>-0.309398</td>\n",
       "      <td>-0.191569</td>\n",
       "      <td>-0.09787</td>\n",
       "      <td>-0.395869</td>\n",
       "      <td>-0.252176</td>\n",
       "      <td>-0.041671</td>\n",
       "      <td>-0.368365</td>\n",
       "      <td>-0.490423</td>\n",
       "      <td>-0.313906</td>\n",
       "      <td>-0.201546</td>\n",
       "      <td>-0.183322</td>\n",
       "      <td>-0.304746</td>\n",
       "      <td>-0.259382</td>\n",
       "      <td>-0.218093</td>\n",
       "      <td>-0.174926</td>\n",
       "    </tr>\n",
       "    <tr>\n",
       "      <th>1</th>\n",
       "      <td>2007</td>\n",
       "      <td>2</td>\n",
       "      <td>17.410000</td>\n",
       "      <td>49</td>\n",
       "      <td>-0.338478</td>\n",
       "      <td>-0.36379</td>\n",
       "      <td>0.845295</td>\n",
       "      <td>-0.21655</td>\n",
       "      <td>-0.223779</td>\n",
       "      <td>1.576532</td>\n",
       "      <td>-0.209231</td>\n",
       "      <td>-0.200570</td>\n",
       "      <td>-0.166320</td>\n",
       "      <td>-0.301698</td>\n",
       "      <td>-0.404546</td>\n",
       "      <td>-0.167950</td>\n",
       "      <td>-0.269978</td>\n",
       "      <td>-0.268912</td>\n",
       "      <td>-0.194207</td>\n",
       "      <td>-0.369065</td>\n",
       "      <td>-0.280697</td>\n",
       "      <td>-0.141743</td>\n",
       "      <td>-0.613623</td>\n",
       "      <td>-0.331301</td>\n",
       "      <td>0.393064</td>\n",
       "      <td>-0.309398</td>\n",
       "      <td>-0.191569</td>\n",
       "      <td>-0.09787</td>\n",
       "      <td>-0.395869</td>\n",
       "      <td>-0.252176</td>\n",
       "      <td>-0.041671</td>\n",
       "      <td>-0.368365</td>\n",
       "      <td>-0.490423</td>\n",
       "      <td>-0.313906</td>\n",
       "      <td>-0.201546</td>\n",
       "      <td>-0.183322</td>\n",
       "      <td>-0.304746</td>\n",
       "      <td>-0.259382</td>\n",
       "      <td>2.159369</td>\n",
       "      <td>-0.174926</td>\n",
       "    </tr>\n",
       "    <tr>\n",
       "      <th>2</th>\n",
       "      <td>2007</td>\n",
       "      <td>2</td>\n",
       "      <td>17.511000</td>\n",
       "      <td>41</td>\n",
       "      <td>-0.338478</td>\n",
       "      <td>-0.36379</td>\n",
       "      <td>-0.241202</td>\n",
       "      <td>-0.21655</td>\n",
       "      <td>-0.223779</td>\n",
       "      <td>-0.246048</td>\n",
       "      <td>-0.209231</td>\n",
       "      <td>1.725515</td>\n",
       "      <td>-0.166320</td>\n",
       "      <td>-0.301698</td>\n",
       "      <td>-0.404546</td>\n",
       "      <td>2.179902</td>\n",
       "      <td>-0.269978</td>\n",
       "      <td>-0.268912</td>\n",
       "      <td>-0.194207</td>\n",
       "      <td>-0.369065</td>\n",
       "      <td>-0.280697</td>\n",
       "      <td>-0.141743</td>\n",
       "      <td>0.223592</td>\n",
       "      <td>2.363663</td>\n",
       "      <td>-0.355535</td>\n",
       "      <td>0.955171</td>\n",
       "      <td>-0.191569</td>\n",
       "      <td>-0.09787</td>\n",
       "      <td>3.276381</td>\n",
       "      <td>-0.252176</td>\n",
       "      <td>-0.041671</td>\n",
       "      <td>1.051334</td>\n",
       "      <td>-0.490423</td>\n",
       "      <td>-0.313906</td>\n",
       "      <td>-0.201546</td>\n",
       "      <td>-0.183322</td>\n",
       "      <td>-0.304746</td>\n",
       "      <td>-0.259382</td>\n",
       "      <td>2.159369</td>\n",
       "      <td>2.689582</td>\n",
       "    </tr>\n",
       "    <tr>\n",
       "      <th>3</th>\n",
       "      <td>2006</td>\n",
       "      <td>2</td>\n",
       "      <td>19.010786</td>\n",
       "      <td>36</td>\n",
       "      <td>-0.338478</td>\n",
       "      <td>-0.36379</td>\n",
       "      <td>-0.241202</td>\n",
       "      <td>-0.21655</td>\n",
       "      <td>-0.223779</td>\n",
       "      <td>-0.246048</td>\n",
       "      <td>-0.209231</td>\n",
       "      <td>-0.200570</td>\n",
       "      <td>-0.166320</td>\n",
       "      <td>-0.301698</td>\n",
       "      <td>-0.404546</td>\n",
       "      <td>-0.167950</td>\n",
       "      <td>-0.269978</td>\n",
       "      <td>-0.268912</td>\n",
       "      <td>-0.194207</td>\n",
       "      <td>-0.369065</td>\n",
       "      <td>-0.280697</td>\n",
       "      <td>-0.141743</td>\n",
       "      <td>-0.613623</td>\n",
       "      <td>-0.331301</td>\n",
       "      <td>-0.355535</td>\n",
       "      <td>-0.309398</td>\n",
       "      <td>-0.191569</td>\n",
       "      <td>-0.09787</td>\n",
       "      <td>-0.395869</td>\n",
       "      <td>-0.252176</td>\n",
       "      <td>-0.041671</td>\n",
       "      <td>-0.368365</td>\n",
       "      <td>-0.490423</td>\n",
       "      <td>-0.313906</td>\n",
       "      <td>-0.201546</td>\n",
       "      <td>-0.183322</td>\n",
       "      <td>-0.304746</td>\n",
       "      <td>-0.259382</td>\n",
       "      <td>-0.218093</td>\n",
       "      <td>-0.174926</td>\n",
       "    </tr>\n",
       "    <tr>\n",
       "      <th>4</th>\n",
       "      <td>2008</td>\n",
       "      <td>2</td>\n",
       "      <td>16.657000</td>\n",
       "      <td>1</td>\n",
       "      <td>-0.338478</td>\n",
       "      <td>-0.36379</td>\n",
       "      <td>-0.241202</td>\n",
       "      <td>-0.21655</td>\n",
       "      <td>-0.223779</td>\n",
       "      <td>1.576532</td>\n",
       "      <td>-0.209231</td>\n",
       "      <td>-0.200570</td>\n",
       "      <td>5.490828</td>\n",
       "      <td>-0.301698</td>\n",
       "      <td>6.994189</td>\n",
       "      <td>-0.167950</td>\n",
       "      <td>3.637091</td>\n",
       "      <td>-0.268912</td>\n",
       "      <td>-0.194207</td>\n",
       "      <td>-0.369065</td>\n",
       "      <td>-0.280697</td>\n",
       "      <td>-0.141743</td>\n",
       "      <td>0.223592</td>\n",
       "      <td>-0.331301</td>\n",
       "      <td>0.393064</td>\n",
       "      <td>0.955171</td>\n",
       "      <td>-0.191569</td>\n",
       "      <td>-0.09787</td>\n",
       "      <td>4.194444</td>\n",
       "      <td>-0.252176</td>\n",
       "      <td>-0.041671</td>\n",
       "      <td>-0.368365</td>\n",
       "      <td>-0.490423</td>\n",
       "      <td>5.953073</td>\n",
       "      <td>-0.201546</td>\n",
       "      <td>-0.183322</td>\n",
       "      <td>-0.304746</td>\n",
       "      <td>-0.259382</td>\n",
       "      <td>-0.218093</td>\n",
       "      <td>-0.174926</td>\n",
       "    </tr>\n",
       "  </tbody>\n",
       "</table>\n",
       "</div>"
      ],
      "text/plain": [
       "   gradyear  gender        age  NumberOffriends  basketball  football  \\\n",
       "0      2007       3  18.400134                0   -0.338478  -0.36379   \n",
       "1      2007       2  17.410000               49   -0.338478  -0.36379   \n",
       "2      2007       2  17.511000               41   -0.338478  -0.36379   \n",
       "3      2006       2  19.010786               36   -0.338478  -0.36379   \n",
       "4      2008       2  16.657000                1   -0.338478  -0.36379   \n",
       "\n",
       "     soccer  softball  volleyball  swimming  cheerleading  baseball    tennis  \\\n",
       "0 -0.241202  -0.21655   -0.223779 -0.246048     -0.209231 -0.200570 -0.166320   \n",
       "1  0.845295  -0.21655   -0.223779  1.576532     -0.209231 -0.200570 -0.166320   \n",
       "2 -0.241202  -0.21655   -0.223779 -0.246048     -0.209231  1.725515 -0.166320   \n",
       "3 -0.241202  -0.21655   -0.223779 -0.246048     -0.209231 -0.200570 -0.166320   \n",
       "4 -0.241202  -0.21655   -0.223779  1.576532     -0.209231 -0.200570  5.490828   \n",
       "\n",
       "     sports      cute       sex      sexy       hot    kissed     dance  \\\n",
       "0 -0.301698 -0.404546 -0.167950 -0.269978 -0.268912 -0.194207 -0.369065   \n",
       "1 -0.301698 -0.404546 -0.167950 -0.269978 -0.268912 -0.194207 -0.369065   \n",
       "2 -0.301698 -0.404546  2.179902 -0.269978 -0.268912 -0.194207 -0.369065   \n",
       "3 -0.301698 -0.404546 -0.167950 -0.269978 -0.268912 -0.194207 -0.369065   \n",
       "4 -0.301698  6.994189 -0.167950  3.637091 -0.268912 -0.194207 -0.369065   \n",
       "\n",
       "       band  marching     music      rock       god    church     jesus  \\\n",
       "0 -0.280697 -0.141743 -0.613623 -0.331301 -0.355535 -0.309398 -0.191569   \n",
       "1 -0.280697 -0.141743 -0.613623 -0.331301  0.393064 -0.309398 -0.191569   \n",
       "2 -0.280697 -0.141743  0.223592  2.363663 -0.355535  0.955171 -0.191569   \n",
       "3 -0.280697 -0.141743 -0.613623 -0.331301 -0.355535 -0.309398 -0.191569   \n",
       "4 -0.280697 -0.141743  0.223592 -0.331301  0.393064  0.955171 -0.191569   \n",
       "\n",
       "     bible      hair     dress    blonde      mall  shopping   clothes  \\\n",
       "0 -0.09787 -0.395869 -0.252176 -0.041671 -0.368365 -0.490423 -0.313906   \n",
       "1 -0.09787 -0.395869 -0.252176 -0.041671 -0.368365 -0.490423 -0.313906   \n",
       "2 -0.09787  3.276381 -0.252176 -0.041671  1.051334 -0.490423 -0.313906   \n",
       "3 -0.09787 -0.395869 -0.252176 -0.041671 -0.368365 -0.490423 -0.313906   \n",
       "4 -0.09787  4.194444 -0.252176 -0.041671 -0.368365 -0.490423  5.953073   \n",
       "\n",
       "   hollister  abercrombie       die     death     drunk     drugs  \n",
       "0  -0.201546    -0.183322 -0.304746 -0.259382 -0.218093 -0.174926  \n",
       "1  -0.201546    -0.183322 -0.304746 -0.259382  2.159369 -0.174926  \n",
       "2  -0.201546    -0.183322 -0.304746 -0.259382  2.159369  2.689582  \n",
       "3  -0.201546    -0.183322 -0.304746 -0.259382 -0.218093 -0.174926  \n",
       "4  -0.201546    -0.183322 -0.304746 -0.259382 -0.218093 -0.174926  "
      ]
     },
     "execution_count": 29,
     "metadata": {},
     "output_type": "execute_result"
    }
   ],
   "source": [
    "scaled_feature.head()"
   ]
  },
  {
   "cell_type": "markdown",
   "id": "9f7208db",
   "metadata": {
    "papermill": {
     "duration": 0.026665,
     "end_time": "2024-03-04T14:02:56.114229",
     "exception": false,
     "start_time": "2024-03-04T14:02:56.087564",
     "status": "completed"
    },
    "tags": []
   },
   "source": [
    "# 📌Building the K-means model"
   ]
  },
  {
   "cell_type": "code",
   "execution_count": 30,
   "id": "e7b30e6f",
   "metadata": {
    "execution": {
     "iopub.execute_input": "2024-03-04T14:02:56.170490Z",
     "iopub.status.busy": "2024-03-04T14:02:56.169684Z",
     "iopub.status.idle": "2024-03-04T14:02:56.701001Z",
     "shell.execute_reply": "2024-03-04T14:02:56.699466Z"
    },
    "papermill": {
     "duration": 0.563513,
     "end_time": "2024-03-04T14:02:56.704608",
     "exception": false,
     "start_time": "2024-03-04T14:02:56.141095",
     "status": "completed"
    },
    "tags": []
   },
   "outputs": [],
   "source": [
    "from sklearn.cluster import KMeans\n",
    "kmeans = KMeans(n_clusters=5, random_state=0)"
   ]
  },
  {
   "cell_type": "code",
   "execution_count": 31,
   "id": "80ea98d1",
   "metadata": {
    "execution": {
     "iopub.execute_input": "2024-03-04T14:02:56.765444Z",
     "iopub.status.busy": "2024-03-04T14:02:56.764324Z",
     "iopub.status.idle": "2024-03-04T14:02:58.169053Z",
     "shell.execute_reply": "2024-03-04T14:02:58.167674Z"
    },
    "papermill": {
     "duration": 1.437994,
     "end_time": "2024-03-04T14:02:58.172528",
     "exception": false,
     "start_time": "2024-03-04T14:02:56.734534",
     "status": "completed"
    },
    "tags": []
   },
   "outputs": [],
   "source": [
    "model = kmeans.fit(scaled_feature)"
   ]
  },
  {
   "cell_type": "markdown",
   "id": "e6ffc58b",
   "metadata": {
    "papermill": {
     "duration": 0.037042,
     "end_time": "2024-03-04T14:02:58.256169",
     "exception": false,
     "start_time": "2024-03-04T14:02:58.219127",
     "status": "completed"
    },
    "tags": []
   },
   "source": [
    "# 📌Elbow Method*"
   ]
  },
  {
   "cell_type": "code",
   "execution_count": 32,
   "id": "fd4b3641",
   "metadata": {
    "execution": {
     "iopub.execute_input": "2024-03-04T14:02:58.314960Z",
     "iopub.status.busy": "2024-03-04T14:02:58.314446Z",
     "iopub.status.idle": "2024-03-04T14:03:31.269270Z",
     "shell.execute_reply": "2024-03-04T14:03:31.267789Z"
    },
    "papermill": {
     "duration": 33.016133,
     "end_time": "2024-03-04T14:03:31.300848",
     "exception": false,
     "start_time": "2024-03-04T14:02:58.284715",
     "status": "completed"
    },
    "tags": []
   },
   "outputs": [
    {
     "data": {
      "image/png": "[encoded data removed]",
      "text/plain": [
       "<Figure size 640x480 with 1 Axes>"
      ]
     },
     "metadata": {},
     "output_type": "display_data"
    }
   ],
   "source": [
    "# Creating a function with KMeans to plot \"The Elbow Curve\"\n",
    "\n",
    "wcss = []\n",
    "for i in range(1,20):\n",
    "    kmeans = KMeans(n_clusters=i,init='k-means++' ,max_iter=300,random_state=0)\n",
    "    kmeans.fit(scaled_feature)\n",
    "    wcss.append(kmeans.inertia_)\n",
    "    \n",
    "plt.plot(range(1,20),wcss) \n",
    "plt.title('THe Elbow Curve')\n",
    "plt.xlabel('Number of Clusters')\n",
    "plt.ylabel(\"WCSS\") #WCSS stands for total within-cluster sum of sqaure\n",
    "plt.show()"
   ]
  },
  {
   "cell_type": "markdown",
   "id": "b7ce7cdc",
   "metadata": {
    "papermill": {
     "duration": 0.028296,
     "end_time": "2024-03-04T14:03:31.357466",
     "exception": false,
     "start_time": "2024-03-04T14:03:31.329170",
     "status": "completed"
    },
    "tags": []
   },
   "source": [
    "**The location of a bend (knee) in the plot is generally considered as an indicator of the appropriate number of clusters. Our Elbow point is around cluster size of 5.\n",
    "We will use k=5 to further interpret our clustering result.**"
   ]
  },
  {
   "cell_type": "markdown",
   "id": "865efcb3",
   "metadata": {
    "papermill": {
     "duration": 0.027923,
     "end_time": "2024-03-04T14:03:31.413360",
     "exception": false,
     "start_time": "2024-03-04T14:03:31.385437",
     "status": "completed"
    },
    "tags": []
   },
   "source": [
    "# 📌Fit K-Means clustering for k=5"
   ]
  },
  {
   "cell_type": "code",
   "execution_count": 33,
   "id": "03fe292f",
   "metadata": {
    "execution": {
     "iopub.execute_input": "2024-03-04T14:03:31.471504Z",
     "iopub.status.busy": "2024-03-04T14:03:31.471070Z",
     "iopub.status.idle": "2024-03-04T14:03:33.047075Z",
     "shell.execute_reply": "2024-03-04T14:03:33.046058Z"
    },
    "papermill": {
     "duration": 1.608381,
     "end_time": "2024-03-04T14:03:33.049724",
     "exception": false,
     "start_time": "2024-03-04T14:03:31.441343",
     "status": "completed"
    },
    "tags": []
   },
   "outputs": [
    {
     "data": {
      "text/html": [
       "<style>#sk-container-id-1 {color: black;background-color: white;}#sk-container-id-1 pre{padding: 0;}#sk-container-id-1 div.sk-toggleable {background-color: white;}#sk-container-id-1 label.sk-toggleable__label {cursor: pointer;display: block;width: 100%;margin-bottom: 0;padding: 0.3em;box-sizing: border-box;text-align: center;}#sk-container-id-1 label.sk-toggleable__label-arrow:before {content: \"▸\";float: left;margin-right: 0.25em;color: #696969;}#sk-container-id-1 label.sk-toggleable__label-arrow:hover:before {color: black;}#sk-container-id-1 div.sk-estimator:hover label.sk-toggleable__label-arrow:before {color: black;}#sk-container-id-1 div.sk-toggleable__content {max-height: 0;max-width: 0;overflow: hidden;text-align: left;background-color: #f0f8ff;}#sk-container-id-1 div.sk-toggleable__content pre {margin: 0.2em;color: black;border-radius: 0.25em;background-color: #f0f8ff;}#sk-container-id-1 input.sk-toggleable__control:checked~div.sk-toggleable__content {max-height: 200px;max-width: 100%;overflow: auto;}#sk-container-id-1 input.sk-toggleable__control:checked~label.sk-toggleable__label-arrow:before {content: \"▾\";}#sk-container-id-1 div.sk-estimator input.sk-toggleable__control:checked~label.sk-toggleable__label {background-color: #d4ebff;}#sk-container-id-1 div.sk-label input.sk-toggleable__control:checked~label.sk-toggleable__label {background-color: #d4ebff;}#sk-container-id-1 input.sk-hidden--visually {border: 0;clip: rect(1px 1px 1px 1px);clip: rect(1px, 1px, 1px, 1px);height: 1px;margin: -1px;overflow: hidden;padding: 0;position: absolute;width: 1px;}#sk-container-id-1 div.sk-estimator {font-family: monospace;background-color: #f0f8ff;border: 1px dotted black;border-radius: 0.25em;box-sizing: border-box;margin-bottom: 0.5em;}#sk-container-id-1 div.sk-estimator:hover {background-color: #d4ebff;}#sk-container-id-1 div.sk-parallel-item::after {content: \"\";width: 100%;border-bottom: 1px solid gray;flex-grow: 1;}#sk-container-id-1 div.sk-label:hover label.sk-toggleable__label {background-color: #d4ebff;}#sk-container-id-1 div.sk-serial::before {content: \"\";position: absolute;border-left: 1px solid gray;box-sizing: border-box;top: 0;bottom: 0;left: 50%;z-index: 0;}#sk-container-id-1 div.sk-serial {display: flex;flex-direction: column;align-items: center;background-color: white;padding-right: 0.2em;padding-left: 0.2em;position: relative;}#sk-container-id-1 div.sk-item {position: relative;z-index: 1;}#sk-container-id-1 div.sk-parallel {display: flex;align-items: stretch;justify-content: center;background-color: white;position: relative;}#sk-container-id-1 div.sk-item::before, #sk-container-id-1 div.sk-parallel-item::before {content: \"\";position: absolute;border-left: 1px solid gray;box-sizing: border-box;top: 0;bottom: 0;left: 50%;z-index: -1;}#sk-container-id-1 div.sk-parallel-item {display: flex;flex-direction: column;z-index: 1;position: relative;background-color: white;}#sk-container-id-1 div.sk-parallel-item:first-child::after {align-self: flex-end;width: 50%;}#sk-container-id-1 div.sk-parallel-item:last-child::after {align-self: flex-start;width: 50%;}#sk-container-id-1 div.sk-parallel-item:only-child::after {width: 0;}#sk-container-id-1 div.sk-dashed-wrapped {border: 1px dashed gray;margin: 0 0.4em 0.5em 0.4em;box-sizing: border-box;padding-bottom: 0.4em;background-color: white;}#sk-container-id-1 div.sk-label label {font-family: monospace;font-weight: bold;display: inline-block;line-height: 1.2em;}#sk-container-id-1 div.sk-label-container {text-align: center;}#sk-container-id-1 div.sk-container {/* jupyter's `normalize.less` sets `[hidden] { display: none; }` but bootstrap.min.css set `[hidden] { display: none !important; }` so we also need the `!important` here to be able to override the default hidden behavior on the sphinx rendered scikit-learn.org. See: https://github.com/scikit-learn/scikit-learn/issues/21755 */display: inline-block !important;position: relative;}#sk-container-id-1 div.sk-text-repr-fallback {display: none;}</style><div id=\"sk-container-id-1\" class=\"sk-top-container\"><div class=\"sk-text-repr-fallback\"><pre>KMeans(n_clusters=5)</pre><b>In a Jupyter environment, please rerun this cell to show the HTML representation or trust the notebook. <br />On GitHub, the HTML representation is unable to render, please try loading this page with nbviewer.org.</b></div><div class=\"sk-container\" hidden><div class=\"sk-item\"><div class=\"sk-estimator sk-toggleable\"><input class=\"sk-toggleable__control sk-hidden--visually\" id=\"sk-estimator-id-1\" type=\"checkbox\" checked><label for=\"sk-estimator-id-1\" class=\"sk-toggleable__label sk-toggleable__label-arrow\">KMeans</label><div class=\"sk-toggleable__content\"><pre>KMeans(n_clusters=5)</pre></div></div></div></div></div>"
      ],
      "text/plain": [
       "KMeans(n_clusters=5)"
      ]
     },
     "execution_count": 33,
     "metadata": {},
     "output_type": "execute_result"
    }
   ],
   "source": [
    "kmeans = KMeans(n_clusters=5)\n",
    "kmeans.fit(scaled_feature)"
   ]
  },
  {
   "cell_type": "code",
   "execution_count": 34,
   "id": "7a20e620",
   "metadata": {
    "execution": {
     "iopub.execute_input": "2024-03-04T14:03:33.111718Z",
     "iopub.status.busy": "2024-03-04T14:03:33.111290Z",
     "iopub.status.idle": "2024-03-04T14:03:33.121273Z",
     "shell.execute_reply": "2024-03-04T14:03:33.119569Z"
    },
    "papermill": {
     "duration": 0.044537,
     "end_time": "2024-03-04T14:03:33.124645",
     "exception": false,
     "start_time": "2024-03-04T14:03:33.080108",
     "status": "completed"
    },
    "tags": []
   },
   "outputs": [
    {
     "data": {
      "text/plain": [
       "array([2, 3, 1, ..., 1, 1, 1], dtype=int32)"
      ]
     },
     "execution_count": 34,
     "metadata": {},
     "output_type": "execute_result"
    }
   ],
   "source": [
    "kmeans.labels_"
   ]
  },
  {
   "cell_type": "code",
   "execution_count": 35,
   "id": "8d4c4137",
   "metadata": {
    "execution": {
     "iopub.execute_input": "2024-03-04T14:03:33.189506Z",
     "iopub.status.busy": "2024-03-04T14:03:33.189003Z",
     "iopub.status.idle": "2024-03-04T14:03:33.198634Z",
     "shell.execute_reply": "2024-03-04T14:03:33.196921Z"
    },
    "papermill": {
     "duration": 0.04653,
     "end_time": "2024-03-04T14:03:33.201854",
     "exception": false,
     "start_time": "2024-03-04T14:03:33.155324",
     "status": "completed"
    },
    "tags": []
   },
   "outputs": [
    {
     "data": {
      "text/plain": [
       "15000"
      ]
     },
     "execution_count": 35,
     "metadata": {},
     "output_type": "execute_result"
    }
   ],
   "source": [
    "len(kmeans.labels_)"
   ]
  },
  {
   "cell_type": "code",
   "execution_count": 36,
   "id": "e8cda815",
   "metadata": {
    "execution": {
     "iopub.execute_input": "2024-03-04T14:03:33.263397Z",
     "iopub.status.busy": "2024-03-04T14:03:33.262907Z",
     "iopub.status.idle": "2024-03-04T14:03:33.270623Z",
     "shell.execute_reply": "2024-03-04T14:03:33.268977Z"
    },
    "papermill": {
     "duration": 0.041357,
     "end_time": "2024-03-04T14:03:33.272983",
     "exception": false,
     "start_time": "2024-03-04T14:03:33.231626",
     "status": "completed"
    },
    "tags": []
   },
   "outputs": [],
   "source": [
    "data['cluster'] = kmeans.labels_"
   ]
  },
  {
   "cell_type": "markdown",
   "id": "28faee3e",
   "metadata": {
    "papermill": {
     "duration": 0.030811,
     "end_time": "2024-03-04T14:03:33.334371",
     "exception": false,
     "start_time": "2024-03-04T14:03:33.303560",
     "status": "completed"
    },
    "tags": []
   },
   "source": [
    "# 📌Interpreting Clustering Results"
   ]
  },
  {
   "cell_type": "code",
   "execution_count": 37,
   "id": "6ff655fe",
   "metadata": {
    "execution": {
     "iopub.execute_input": "2024-03-04T14:03:33.396787Z",
     "iopub.status.busy": "2024-03-04T14:03:33.396298Z",
     "iopub.status.idle": "2024-03-04T14:03:33.820802Z",
     "shell.execute_reply": "2024-03-04T14:03:33.819364Z"
    },
    "papermill": {
     "duration": 0.458886,
     "end_time": "2024-03-04T14:03:33.823996",
     "exception": false,
     "start_time": "2024-03-04T14:03:33.365110",
     "status": "completed"
    },
    "tags": []
   },
   "outputs": [
    {
     "data": {
      "image/png": "[encoded data removed]",
      "text/plain": [
       "<Figure size 1200x700 with 1 Axes>"
      ]
     },
     "metadata": {},
     "output_type": "display_data"
    }
   ],
   "source": [
    "plt.figure(figsize=(12,7))\n",
    "axis = sns.barplot(x=np.arange(0,5,1), y=data.groupby(['cluster']).count()['age'].values)\n",
    "x=axis.set_xlabel(\"cluster Number\")\n",
    "x=axis.set_ylabel(\"Number of students\")"
   ]
  },
  {
   "cell_type": "markdown",
   "id": "273c03f1",
   "metadata": {
    "papermill": {
     "duration": 0.031267,
     "end_time": "2024-03-04T14:03:33.885664",
     "exception": false,
     "start_time": "2024-03-04T14:03:33.854397",
     "status": "completed"
    },
    "tags": []
   },
   "source": [
    "**From the above plot we can see that cluster 0 is the largest and cluster 2 has fewest teen students.**"
   ]
  },
  {
   "cell_type": "markdown",
   "id": "8827b6a6",
   "metadata": {
    "papermill": {
     "duration": 0.030155,
     "end_time": "2024-03-04T14:03:33.946456",
     "exception": false,
     "start_time": "2024-03-04T14:03:33.916301",
     "status": "completed"
    },
    "tags": []
   },
   "source": [
    "# 📌Let' see the number of students belonging to each cluster"
   ]
  },
  {
   "cell_type": "code",
   "execution_count": 38,
   "id": "eb5b41ba",
   "metadata": {
    "execution": {
     "iopub.execute_input": "2024-03-04T14:03:34.012035Z",
     "iopub.status.busy": "2024-03-04T14:03:34.011555Z",
     "iopub.status.idle": "2024-03-04T14:03:34.028761Z",
     "shell.execute_reply": "2024-03-04T14:03:34.026935Z"
    },
    "papermill": {
     "duration": 0.053313,
     "end_time": "2024-03-04T14:03:34.031551",
     "exception": false,
     "start_time": "2024-03-04T14:03:33.978238",
     "status": "completed"
    },
    "tags": []
   },
   "outputs": [
    {
     "data": {
      "text/plain": [
       "[760, 4577, 7072, 2444, 147]"
      ]
     },
     "execution_count": 38,
     "metadata": {},
     "output_type": "execute_result"
    }
   ],
   "source": [
    "size_array = list(data.groupby(['cluster']).count()['age'].values)\n",
    "size_array"
   ]
  },
  {
   "cell_type": "markdown",
   "id": "c7423179",
   "metadata": {
    "papermill": {
     "duration": 0.03025,
     "end_time": "2024-03-04T14:03:34.092046",
     "exception": false,
     "start_time": "2024-03-04T14:03:34.061796",
     "status": "completed"
    },
    "tags": []
   },
   "source": [
    "## 📌Average Age in each cluster"
   ]
  },
  {
   "cell_type": "code",
   "execution_count": 39,
   "id": "f4fae07c",
   "metadata": {
    "execution": {
     "iopub.execute_input": "2024-03-04T14:03:34.156956Z",
     "iopub.status.busy": "2024-03-04T14:03:34.156526Z",
     "iopub.status.idle": "2024-03-04T14:03:34.166284Z",
     "shell.execute_reply": "2024-03-04T14:03:34.164625Z"
    },
    "papermill": {
     "duration": 0.044659,
     "end_time": "2024-03-04T14:03:34.168971",
     "exception": false,
     "start_time": "2024-03-04T14:03:34.124312",
     "status": "completed"
    },
    "tags": []
   },
   "outputs": [
    {
     "name": "stdout",
     "output_type": "stream",
     "text": [
      "Cluster 0: 17.62 years\n",
      "Cluster 1: 18.03 years\n",
      "Cluster 2: 18.06 years\n",
      "Cluster 3: 17.76 years\n",
      "Cluster 4: 17.68 years\n"
     ]
    }
   ],
   "source": [
    "# Calculate the mean age for each cluster\n",
    "mean_age = data.groupby('cluster')['age'].mean()\n",
    "\n",
    "# Print the mean age for each cluster in the desired format\n",
    "for cluster, age in mean_age.items():\n",
    "    print(f\"Cluster {cluster}: {age:.2f} years\")\n"
   ]
  },
  {
   "cell_type": "code",
   "execution_count": 40,
   "id": "85bca65d",
   "metadata": {
    "execution": {
     "iopub.execute_input": "2024-03-04T14:03:34.232849Z",
     "iopub.status.busy": "2024-03-04T14:03:34.232305Z",
     "iopub.status.idle": "2024-03-04T14:03:34.241863Z",
     "shell.execute_reply": "2024-03-04T14:03:34.240526Z"
    },
    "papermill": {
     "duration": 0.045149,
     "end_time": "2024-03-04T14:03:34.244647",
     "exception": false,
     "start_time": "2024-03-04T14:03:34.199498",
     "status": "completed"
    },
    "tags": []
   },
   "outputs": [],
   "source": [
    "data['gender'] = data['gender'].map({'F': 0, 'M': 1, 'not disclosed':3})\n"
   ]
  },
  {
   "cell_type": "code",
   "execution_count": 41,
   "id": "572c973a",
   "metadata": {
    "execution": {
     "iopub.execute_input": "2024-03-04T14:03:34.307141Z",
     "iopub.status.busy": "2024-03-04T14:03:34.306737Z",
     "iopub.status.idle": "2024-03-04T14:03:34.318610Z",
     "shell.execute_reply": "2024-03-04T14:03:34.317269Z"
    },
    "papermill": {
     "duration": 0.046647,
     "end_time": "2024-03-04T14:03:34.321522",
     "exception": false,
     "start_time": "2024-03-04T14:03:34.274875",
     "status": "completed"
    },
    "tags": []
   },
   "outputs": [
    {
     "data": {
      "text/plain": [
       "gender\n",
       "0    11057\n",
       "1     2606\n",
       "3     1337\n",
       "Name: count, dtype: int64"
      ]
     },
     "execution_count": 41,
     "metadata": {},
     "output_type": "execute_result"
    }
   ],
   "source": [
    "data['gender'].value_counts()\n"
   ]
  },
  {
   "cell_type": "markdown",
   "id": "d1078c88",
   "metadata": {
    "papermill": {
     "duration": 0.033495,
     "end_time": "2024-03-04T14:03:34.385424",
     "exception": false,
     "start_time": "2024-03-04T14:03:34.351929",
     "status": "completed"
    },
    "tags": []
   },
   "source": [
    "## 📌Percentage of females in each cluster"
   ]
  },
  {
   "cell_type": "code",
   "execution_count": 42,
   "id": "1549e6d6",
   "metadata": {
    "execution": {
     "iopub.execute_input": "2024-03-04T14:03:34.448497Z",
     "iopub.status.busy": "2024-03-04T14:03:34.448037Z",
     "iopub.status.idle": "2024-03-04T14:03:34.462422Z",
     "shell.execute_reply": "2024-03-04T14:03:34.460685Z"
    },
    "papermill": {
     "duration": 0.048816,
     "end_time": "2024-03-04T14:03:34.465024",
     "exception": false,
     "start_time": "2024-03-04T14:03:34.416208",
     "status": "completed"
    },
    "tags": []
   },
   "outputs": [
    {
     "name": "stdout",
     "output_type": "stream",
     "text": [
      "Cluster 0: 79.61% females\n",
      "Cluster 1: 75.22% females\n",
      "Cluster 2: 70.35% females\n",
      "Cluster 3: 77.99% females\n",
      "Cluster 4: 87.07% females\n"
     ]
    }
   ],
   "source": [
    "# Calculate the percentage of females in each cluster\n",
    "percentage_female = data[data['gender'] == 0].groupby('cluster').size() / data.groupby('cluster').size() * 100\n",
    "\n",
    "# Print the percentage of females in each cluster in a readable format\n",
    "for cluster, percentage in percentage_female.items():\n",
    "    print(f\"Cluster {cluster}: {percentage:.2f}% females\")\n"
   ]
  },
  {
   "cell_type": "markdown",
   "id": "514fedc3",
   "metadata": {
    "papermill": {
     "duration": 0.030085,
     "end_time": "2024-03-04T14:03:34.525425",
     "exception": false,
     "start_time": "2024-03-04T14:03:34.495340",
     "status": "completed"
    },
    "tags": []
   },
   "source": [
    "## 📌Average number of friends in each cluster"
   ]
  },
  {
   "cell_type": "code",
   "execution_count": 43,
   "id": "c213344f",
   "metadata": {
    "execution": {
     "iopub.execute_input": "2024-03-04T14:03:34.591651Z",
     "iopub.status.busy": "2024-03-04T14:03:34.589976Z",
     "iopub.status.idle": "2024-03-04T14:03:34.599679Z",
     "shell.execute_reply": "2024-03-04T14:03:34.597975Z"
    },
    "papermill": {
     "duration": 0.045213,
     "end_time": "2024-03-04T14:03:34.602873",
     "exception": false,
     "start_time": "2024-03-04T14:03:34.557660",
     "status": "completed"
    },
    "tags": []
   },
   "outputs": [
    {
     "name": "stdout",
     "output_type": "stream",
     "text": [
      "Cluster 0: Average number of friends = 112.56\n",
      "Cluster 1: Average number of friends = 30.56\n",
      "Cluster 2: Average number of friends = 5.05\n",
      "Cluster 3: Average number of friends = 63.71\n",
      "Cluster 4: Average number of friends = 208.65\n"
     ]
    }
   ],
   "source": [
    "# Calculate the average number of friends in each cluster\n",
    "mean_friends = data.groupby('cluster')['NumberOffriends'].mean()\n",
    "\n",
    "# Print the average number of friends in each cluster in a readable format\n",
    "for cluster, avg_friends in mean_friends.items():\n",
    "    print(f\"Cluster {cluster}: Average number of friends = {avg_friends:.2f}\")\n"
   ]
  },
  {
   "cell_type": "markdown",
   "id": "1047c76b",
   "metadata": {
    "papermill": {
     "duration": 0.030476,
     "end_time": "2024-03-04T14:03:34.665783",
     "exception": false,
     "start_time": "2024-03-04T14:03:34.635307",
     "status": "completed"
    },
    "tags": []
   },
   "source": [
    "## 📌Cluster Analysis"
   ]
  },
  {
   "cell_type": "code",
   "execution_count": 44,
   "id": "3eaee7de",
   "metadata": {
    "execution": {
     "iopub.execute_input": "2024-03-04T14:03:34.730698Z",
     "iopub.status.busy": "2024-03-04T14:03:34.730194Z",
     "iopub.status.idle": "2024-03-04T14:03:34.741831Z",
     "shell.execute_reply": "2024-03-04T14:03:34.740652Z"
    },
    "papermill": {
     "duration": 0.047365,
     "end_time": "2024-03-04T14:03:34.745096",
     "exception": false,
     "start_time": "2024-03-04T14:03:34.697731",
     "status": "completed"
    },
    "tags": []
   },
   "outputs": [
    {
     "name": "stdout",
     "output_type": "stream",
     "text": [
      "Cluster Analysis:\n",
      "Cluster 0:\n",
      "  Mean Age: 17.62 years\n",
      "  Percentage Female: 79.61%\n",
      "  Mean Number of Friends: 112.56\n",
      "  Number of Students: 760.0\n",
      "\n",
      "Cluster 1:\n",
      "  Mean Age: 18.03 years\n",
      "  Percentage Female: 75.22%\n",
      "  Mean Number of Friends: 30.56\n",
      "  Number of Students: 4577.0\n",
      "\n",
      "Cluster 2:\n",
      "  Mean Age: 18.06 years\n",
      "  Percentage Female: 70.35%\n",
      "  Mean Number of Friends: 5.05\n",
      "  Number of Students: 7072.0\n",
      "\n",
      "Cluster 3:\n",
      "  Mean Age: 17.76 years\n",
      "  Percentage Female: 77.99%\n",
      "  Mean Number of Friends: 63.71\n",
      "  Number of Students: 2444.0\n",
      "\n",
      "Cluster 4:\n",
      "  Mean Age: 17.68 years\n",
      "  Percentage Female: 87.07%\n",
      "  Mean Number of Friends: 208.65\n",
      "  Number of Students: 147.0\n",
      "\n"
     ]
    }
   ],
   "source": [
    "cluster_analysis = pd.DataFrame({\n",
    "    'Mean Age': mean_age,\n",
    "    'Percentage Female': percentage_female,\n",
    "    'Mean Number of Friends': mean_friends,\n",
    "    'Number of Students': size_array  \n",
    "})\n",
    "\n",
    "print(\"Cluster Analysis:\")\n",
    "for cluster, row in cluster_analysis.iterrows():\n",
    "    print(f\"Cluster {cluster}:\")\n",
    "    print(f\"  Mean Age: {row['Mean Age']:.2f} years\")\n",
    "    print(f\"  Percentage Female: {row['Percentage Female']:.2f}%\")\n",
    "    print(f\"  Mean Number of Friends: {row['Mean Number of Friends']:.2f}\")\n",
    "    print(f\"  Number of Students: {row['Number of Students']}\")\n",
    "    print()  \n"
   ]
  },
  {
   "cell_type": "code",
   "execution_count": 45,
   "id": "4b574ab1",
   "metadata": {
    "execution": {
     "iopub.execute_input": "2024-03-04T14:03:34.811303Z",
     "iopub.status.busy": "2024-03-04T14:03:34.810859Z",
     "iopub.status.idle": "2024-03-04T14:03:36.305630Z",
     "shell.execute_reply": "2024-03-04T14:03:36.304145Z"
    },
    "papermill": {
     "duration": 1.531107,
     "end_time": "2024-03-04T14:03:36.309198",
     "exception": false,
     "start_time": "2024-03-04T14:03:34.778091",
     "status": "completed"
    },
    "tags": []
   },
   "outputs": [
    {
     "data": {
      "image/png": "[encoded data removed]",
      "text/plain": [
       "<Figure size 1200x1000 with 4 Axes>"
      ]
     },
     "metadata": {},
     "output_type": "display_data"
    }
   ],
   "source": [
    "\n",
    "clusters = cluster_analysis.index\n",
    "\n",
    "fig, axs = plt.subplots(2, 2, figsize=(12, 10))\n",
    "\n",
    "# Mean Age\n",
    "axs[0, 0].bar(clusters, cluster_analysis['Mean Age'], color='skyblue')\n",
    "axs[0, 0].set_title('Mean Age by Cluster')\n",
    "axs[0, 0].set_ylabel('Mean Age (years)')\n",
    "\n",
    "# Percentage Female\n",
    "axs[0, 1].bar(clusters, cluster_analysis['Percentage Female'], color='lightgreen')\n",
    "axs[0, 1].set_title('Percentage Female by Cluster')\n",
    "axs[0, 1].set_ylabel('Percentage Female')\n",
    "\n",
    "# Mean Number of Friends\n",
    "axs[1, 0].bar(clusters, cluster_analysis['Mean Number of Friends'], color='salmon')\n",
    "axs[1, 0].set_title('Mean Number of Friends by Cluster')\n",
    "axs[1, 0].set_ylabel('Mean Number of Friends')\n",
    "\n",
    "# Number of Students\n",
    "axs[1, 1].bar(clusters, cluster_analysis['Number of Students'], color='gold')\n",
    "axs[1, 1].set_title('Number of Students by Cluster')\n",
    "axs[1, 1].set_ylabel('Number of Students')\n",
    "\n",
    "# Rotate x-axis labels for better readability\n",
    "for ax in axs.flat:\n",
    "    ax.set_xticklabels(ax.get_xticklabels(), rotation=45, ha='right')\n",
    "\n",
    "plt.tight_layout()\n",
    "plt.show()\n"
   ]
  },
  {
   "cell_type": "markdown",
   "id": "76de961b",
   "metadata": {
    "papermill": {
     "duration": 0.036018,
     "end_time": "2024-03-04T14:03:36.378982",
     "exception": false,
     "start_time": "2024-03-04T14:03:36.342964",
     "status": "completed"
    },
    "tags": []
   },
   "source": [
    "## 📌Describe clusters characteristics"
   ]
  },
  {
   "cell_type": "code",
   "execution_count": 46,
   "id": "9841c268",
   "metadata": {
    "execution": {
     "iopub.execute_input": "2024-03-04T14:03:36.446127Z",
     "iopub.status.busy": "2024-03-04T14:03:36.445572Z",
     "iopub.status.idle": "2024-03-04T14:03:36.481467Z",
     "shell.execute_reply": "2024-03-04T14:03:36.479899Z"
    },
    "papermill": {
     "duration": 0.07265,
     "end_time": "2024-03-04T14:03:36.484216",
     "exception": false,
     "start_time": "2024-03-04T14:03:36.411566",
     "status": "completed"
    },
    "tags": []
   },
   "outputs": [
    {
     "name": "stdout",
     "output_type": "stream",
     "text": [
      "Cluster Characteristics:\n"
     ]
    },
    {
     "data": {
      "text/html": [
       "<div>\n",
       "<style scoped>\n",
       "    .dataframe tbody tr th:only-of-type {\n",
       "        vertical-align: middle;\n",
       "    }\n",
       "\n",
       "    .dataframe tbody tr th {\n",
       "        vertical-align: top;\n",
       "    }\n",
       "\n",
       "    .dataframe thead th {\n",
       "        text-align: right;\n",
       "    }\n",
       "</style>\n",
       "<table border=\"1\" class=\"dataframe\">\n",
       "  <thead>\n",
       "    <tr style=\"text-align: right;\">\n",
       "      <th>cluster</th>\n",
       "      <th>0</th>\n",
       "      <th>1</th>\n",
       "      <th>2</th>\n",
       "      <th>3</th>\n",
       "      <th>4</th>\n",
       "    </tr>\n",
       "  </thead>\n",
       "  <tbody>\n",
       "    <tr>\n",
       "      <th>gradyear</th>\n",
       "      <td>2007.684211</td>\n",
       "      <td>2007.491588</td>\n",
       "      <td>2007.428592</td>\n",
       "      <td>2007.622340</td>\n",
       "      <td>2007.897959</td>\n",
       "    </tr>\n",
       "    <tr>\n",
       "      <th>gender</th>\n",
       "      <td>0.390789</td>\n",
       "      <td>0.390212</td>\n",
       "      <td>0.502121</td>\n",
       "      <td>0.387070</td>\n",
       "      <td>0.251701</td>\n",
       "    </tr>\n",
       "    <tr>\n",
       "      <th>age</th>\n",
       "      <td>17.621867</td>\n",
       "      <td>18.025640</td>\n",
       "      <td>18.058586</td>\n",
       "      <td>17.763652</td>\n",
       "      <td>17.678432</td>\n",
       "    </tr>\n",
       "    <tr>\n",
       "      <th>NumberOffriends</th>\n",
       "      <td>112.559211</td>\n",
       "      <td>30.556478</td>\n",
       "      <td>5.054440</td>\n",
       "      <td>63.707038</td>\n",
       "      <td>208.646259</td>\n",
       "    </tr>\n",
       "    <tr>\n",
       "      <th>basketball</th>\n",
       "      <td>0.342105</td>\n",
       "      <td>0.300634</td>\n",
       "      <td>0.213660</td>\n",
       "      <td>0.332242</td>\n",
       "      <td>0.312925</td>\n",
       "    </tr>\n",
       "    <tr>\n",
       "      <th>football</th>\n",
       "      <td>0.313158</td>\n",
       "      <td>0.274634</td>\n",
       "      <td>0.224123</td>\n",
       "      <td>0.289689</td>\n",
       "      <td>0.299320</td>\n",
       "    </tr>\n",
       "    <tr>\n",
       "      <th>soccer</th>\n",
       "      <td>0.257895</td>\n",
       "      <td>0.237710</td>\n",
       "      <td>0.191601</td>\n",
       "      <td>0.268822</td>\n",
       "      <td>0.231293</td>\n",
       "    </tr>\n",
       "    <tr>\n",
       "      <th>softball</th>\n",
       "      <td>0.290789</td>\n",
       "      <td>0.165611</td>\n",
       "      <td>0.118495</td>\n",
       "      <td>0.227496</td>\n",
       "      <td>0.149660</td>\n",
       "    </tr>\n",
       "    <tr>\n",
       "      <th>volleyball</th>\n",
       "      <td>0.194737</td>\n",
       "      <td>0.164737</td>\n",
       "      <td>0.101810</td>\n",
       "      <td>0.198036</td>\n",
       "      <td>0.258503</td>\n",
       "    </tr>\n",
       "    <tr>\n",
       "      <th>swimming</th>\n",
       "      <td>0.142105</td>\n",
       "      <td>0.154250</td>\n",
       "      <td>0.110718</td>\n",
       "      <td>0.162029</td>\n",
       "      <td>0.217687</td>\n",
       "    </tr>\n",
       "    <tr>\n",
       "      <th>cheerleading</th>\n",
       "      <td>0.194737</td>\n",
       "      <td>0.101158</td>\n",
       "      <td>0.086963</td>\n",
       "      <td>0.131751</td>\n",
       "      <td>0.197279</td>\n",
       "    </tr>\n",
       "    <tr>\n",
       "      <th>baseball</th>\n",
       "      <td>0.173684</td>\n",
       "      <td>0.097225</td>\n",
       "      <td>0.094033</td>\n",
       "      <td>0.123977</td>\n",
       "      <td>0.115646</td>\n",
       "    </tr>\n",
       "    <tr>\n",
       "      <th>tennis</th>\n",
       "      <td>0.117105</td>\n",
       "      <td>0.091545</td>\n",
       "      <td>0.078479</td>\n",
       "      <td>0.099836</td>\n",
       "      <td>0.108844</td>\n",
       "    </tr>\n",
       "    <tr>\n",
       "      <th>sports</th>\n",
       "      <td>0.173684</td>\n",
       "      <td>0.163207</td>\n",
       "      <td>0.124576</td>\n",
       "      <td>0.154664</td>\n",
       "      <td>0.115646</td>\n",
       "    </tr>\n",
       "    <tr>\n",
       "      <th>cute</th>\n",
       "      <td>0.434211</td>\n",
       "      <td>0.346734</td>\n",
       "      <td>0.275877</td>\n",
       "      <td>0.393617</td>\n",
       "      <td>0.619048</td>\n",
       "    </tr>\n",
       "    <tr>\n",
       "      <th>sex</th>\n",
       "      <td>0.181579</td>\n",
       "      <td>0.228752</td>\n",
       "      <td>0.200933</td>\n",
       "      <td>0.240589</td>\n",
       "      <td>0.170068</td>\n",
       "    </tr>\n",
       "    <tr>\n",
       "      <th>sexy</th>\n",
       "      <td>0.186842</td>\n",
       "      <td>0.140922</td>\n",
       "      <td>0.123869</td>\n",
       "      <td>0.152619</td>\n",
       "      <td>0.251701</td>\n",
       "    </tr>\n",
       "    <tr>\n",
       "      <th>hot</th>\n",
       "      <td>0.210526</td>\n",
       "      <td>0.136552</td>\n",
       "      <td>0.106193</td>\n",
       "      <td>0.139116</td>\n",
       "      <td>0.156463</td>\n",
       "    </tr>\n",
       "    <tr>\n",
       "      <th>kissed</th>\n",
       "      <td>0.088158</td>\n",
       "      <td>0.116015</td>\n",
       "      <td>0.094033</td>\n",
       "      <td>0.114157</td>\n",
       "      <td>0.197279</td>\n",
       "    </tr>\n",
       "    <tr>\n",
       "      <th>dance</th>\n",
       "      <td>0.606579</td>\n",
       "      <td>0.476076</td>\n",
       "      <td>0.353931</td>\n",
       "      <td>0.510638</td>\n",
       "      <td>0.489796</td>\n",
       "    </tr>\n",
       "    <tr>\n",
       "      <th>band</th>\n",
       "      <td>0.263158</td>\n",
       "      <td>0.321390</td>\n",
       "      <td>0.276160</td>\n",
       "      <td>0.344108</td>\n",
       "      <td>0.435374</td>\n",
       "    </tr>\n",
       "    <tr>\n",
       "      <th>marching</th>\n",
       "      <td>0.038158</td>\n",
       "      <td>0.044134</td>\n",
       "      <td>0.035633</td>\n",
       "      <td>0.054828</td>\n",
       "      <td>0.102041</td>\n",
       "    </tr>\n",
       "    <tr>\n",
       "      <th>music</th>\n",
       "      <td>0.765789</td>\n",
       "      <td>0.767533</td>\n",
       "      <td>0.680854</td>\n",
       "      <td>0.806465</td>\n",
       "      <td>0.768707</td>\n",
       "    </tr>\n",
       "    <tr>\n",
       "      <th>rock</th>\n",
       "      <td>0.286842</td>\n",
       "      <td>0.257155</td>\n",
       "      <td>0.223982</td>\n",
       "      <td>0.277414</td>\n",
       "      <td>0.210884</td>\n",
       "    </tr>\n",
       "    <tr>\n",
       "      <th>god</th>\n",
       "      <td>0.638158</td>\n",
       "      <td>0.469958</td>\n",
       "      <td>0.422936</td>\n",
       "      <td>0.574059</td>\n",
       "      <td>0.639456</td>\n",
       "    </tr>\n",
       "    <tr>\n",
       "      <th>church</th>\n",
       "      <td>0.421053</td>\n",
       "      <td>0.259122</td>\n",
       "      <td>0.188490</td>\n",
       "      <td>0.315876</td>\n",
       "      <td>0.401361</td>\n",
       "    </tr>\n",
       "    <tr>\n",
       "      <th>jesus</th>\n",
       "      <td>0.186842</td>\n",
       "      <td>0.116670</td>\n",
       "      <td>0.092053</td>\n",
       "      <td>0.135843</td>\n",
       "      <td>0.156463</td>\n",
       "    </tr>\n",
       "    <tr>\n",
       "      <th>bible</th>\n",
       "      <td>0.031579</td>\n",
       "      <td>0.023596</td>\n",
       "      <td>0.017958</td>\n",
       "      <td>0.020458</td>\n",
       "      <td>0.020408</td>\n",
       "    </tr>\n",
       "    <tr>\n",
       "      <th>hair</th>\n",
       "      <td>0.471053</td>\n",
       "      <td>0.443740</td>\n",
       "      <td>0.405119</td>\n",
       "      <td>0.459902</td>\n",
       "      <td>0.612245</td>\n",
       "    </tr>\n",
       "    <tr>\n",
       "      <th>dress</th>\n",
       "      <td>0.177632</td>\n",
       "      <td>0.119292</td>\n",
       "      <td>0.100537</td>\n",
       "      <td>0.138707</td>\n",
       "      <td>0.108844</td>\n",
       "    </tr>\n",
       "    <tr>\n",
       "      <th>blonde</th>\n",
       "      <td>0.155263</td>\n",
       "      <td>0.154031</td>\n",
       "      <td>0.082296</td>\n",
       "      <td>0.110065</td>\n",
       "      <td>0.129252</td>\n",
       "    </tr>\n",
       "    <tr>\n",
       "      <th>mall</th>\n",
       "      <td>0.469737</td>\n",
       "      <td>0.266769</td>\n",
       "      <td>0.210124</td>\n",
       "      <td>0.315876</td>\n",
       "      <td>0.380952</td>\n",
       "    </tr>\n",
       "    <tr>\n",
       "      <th>shopping</th>\n",
       "      <td>0.456579</td>\n",
       "      <td>0.370767</td>\n",
       "      <td>0.300905</td>\n",
       "      <td>0.454992</td>\n",
       "      <td>0.510204</td>\n",
       "    </tr>\n",
       "    <tr>\n",
       "      <th>clothes</th>\n",
       "      <td>0.148684</td>\n",
       "      <td>0.158401</td>\n",
       "      <td>0.137868</td>\n",
       "      <td>0.166530</td>\n",
       "      <td>0.231293</td>\n",
       "    </tr>\n",
       "    <tr>\n",
       "      <th>hollister</th>\n",
       "      <td>0.118421</td>\n",
       "      <td>0.072318</td>\n",
       "      <td>0.055430</td>\n",
       "      <td>0.101882</td>\n",
       "      <td>0.102041</td>\n",
       "    </tr>\n",
       "    <tr>\n",
       "      <th>abercrombie</th>\n",
       "      <td>0.086842</td>\n",
       "      <td>0.052218</td>\n",
       "      <td>0.038037</td>\n",
       "      <td>0.072013</td>\n",
       "      <td>0.149660</td>\n",
       "    </tr>\n",
       "    <tr>\n",
       "      <th>die</th>\n",
       "      <td>0.213158</td>\n",
       "      <td>0.204064</td>\n",
       "      <td>0.174774</td>\n",
       "      <td>0.173486</td>\n",
       "      <td>0.217687</td>\n",
       "    </tr>\n",
       "    <tr>\n",
       "      <th>death</th>\n",
       "      <td>0.142105</td>\n",
       "      <td>0.130216</td>\n",
       "      <td>0.103224</td>\n",
       "      <td>0.127250</td>\n",
       "      <td>0.176871</td>\n",
       "    </tr>\n",
       "    <tr>\n",
       "      <th>drunk</th>\n",
       "      <td>0.122368</td>\n",
       "      <td>0.097007</td>\n",
       "      <td>0.087528</td>\n",
       "      <td>0.080606</td>\n",
       "      <td>0.156463</td>\n",
       "    </tr>\n",
       "    <tr>\n",
       "      <th>drugs</th>\n",
       "      <td>0.032895</td>\n",
       "      <td>0.060738</td>\n",
       "      <td>0.066176</td>\n",
       "      <td>0.057283</td>\n",
       "      <td>0.034014</td>\n",
       "    </tr>\n",
       "  </tbody>\n",
       "</table>\n",
       "</div>"
      ],
      "text/plain": [
       "cluster                    0            1            2            3  \\\n",
       "gradyear         2007.684211  2007.491588  2007.428592  2007.622340   \n",
       "gender              0.390789     0.390212     0.502121     0.387070   \n",
       "age                17.621867    18.025640    18.058586    17.763652   \n",
       "NumberOffriends   112.559211    30.556478     5.054440    63.707038   \n",
       "basketball          0.342105     0.300634     0.213660     0.332242   \n",
       "football            0.313158     0.274634     0.224123     0.289689   \n",
       "soccer              0.257895     0.237710     0.191601     0.268822   \n",
       "softball            0.290789     0.165611     0.118495     0.227496   \n",
       "volleyball          0.194737     0.164737     0.101810     0.198036   \n",
       "swimming            0.142105     0.154250     0.110718     0.162029   \n",
       "cheerleading        0.194737     0.101158     0.086963     0.131751   \n",
       "baseball            0.173684     0.097225     0.094033     0.123977   \n",
       "tennis              0.117105     0.091545     0.078479     0.099836   \n",
       "sports              0.173684     0.163207     0.124576     0.154664   \n",
       "cute                0.434211     0.346734     0.275877     0.393617   \n",
       "sex                 0.181579     0.228752     0.200933     0.240589   \n",
       "sexy                0.186842     0.140922     0.123869     0.152619   \n",
       "hot                 0.210526     0.136552     0.106193     0.139116   \n",
       "kissed              0.088158     0.116015     0.094033     0.114157   \n",
       "dance               0.606579     0.476076     0.353931     0.510638   \n",
       "band                0.263158     0.321390     0.276160     0.344108   \n",
       "marching            0.038158     0.044134     0.035633     0.054828   \n",
       "music               0.765789     0.767533     0.680854     0.806465   \n",
       "rock                0.286842     0.257155     0.223982     0.277414   \n",
       "god                 0.638158     0.469958     0.422936     0.574059   \n",
       "church              0.421053     0.259122     0.188490     0.315876   \n",
       "jesus               0.186842     0.116670     0.092053     0.135843   \n",
       "bible               0.031579     0.023596     0.017958     0.020458   \n",
       "hair                0.471053     0.443740     0.405119     0.459902   \n",
       "dress               0.177632     0.119292     0.100537     0.138707   \n",
       "blonde              0.155263     0.154031     0.082296     0.110065   \n",
       "mall                0.469737     0.266769     0.210124     0.315876   \n",
       "shopping            0.456579     0.370767     0.300905     0.454992   \n",
       "clothes             0.148684     0.158401     0.137868     0.166530   \n",
       "hollister           0.118421     0.072318     0.055430     0.101882   \n",
       "abercrombie         0.086842     0.052218     0.038037     0.072013   \n",
       "die                 0.213158     0.204064     0.174774     0.173486   \n",
       "death               0.142105     0.130216     0.103224     0.127250   \n",
       "drunk               0.122368     0.097007     0.087528     0.080606   \n",
       "drugs               0.032895     0.060738     0.066176     0.057283   \n",
       "\n",
       "cluster                    4  \n",
       "gradyear         2007.897959  \n",
       "gender              0.251701  \n",
       "age                17.678432  \n",
       "NumberOffriends   208.646259  \n",
       "basketball          0.312925  \n",
       "football            0.299320  \n",
       "soccer              0.231293  \n",
       "softball            0.149660  \n",
       "volleyball          0.258503  \n",
       "swimming            0.217687  \n",
       "cheerleading        0.197279  \n",
       "baseball            0.115646  \n",
       "tennis              0.108844  \n",
       "sports              0.115646  \n",
       "cute                0.619048  \n",
       "sex                 0.170068  \n",
       "sexy                0.251701  \n",
       "hot                 0.156463  \n",
       "kissed              0.197279  \n",
       "dance               0.489796  \n",
       "band                0.435374  \n",
       "marching            0.102041  \n",
       "music               0.768707  \n",
       "rock                0.210884  \n",
       "god                 0.639456  \n",
       "church              0.401361  \n",
       "jesus               0.156463  \n",
       "bible               0.020408  \n",
       "hair                0.612245  \n",
       "dress               0.108844  \n",
       "blonde              0.129252  \n",
       "mall                0.380952  \n",
       "shopping            0.510204  \n",
       "clothes             0.231293  \n",
       "hollister           0.102041  \n",
       "abercrombie         0.149660  \n",
       "die                 0.217687  \n",
       "death               0.176871  \n",
       "drunk               0.156463  \n",
       "drugs               0.034014  "
      ]
     },
     "execution_count": 46,
     "metadata": {},
     "output_type": "execute_result"
    }
   ],
   "source": [
    "def describe_clusters(df):\n",
    "   \n",
    "    # Describe cluster characteristics\n",
    "    cluster_analysis = df.groupby('cluster').mean().T\n",
    "    print(\"Cluster Characteristics:\")\n",
    "    cluster_df = pd.DataFrame(cluster_analysis)\n",
    "    \n",
    "    return cluster_df\n",
    "\n",
    "describe_clusters(data)"
   ]
  },
  {
   "cell_type": "markdown",
   "id": "bbe6a778",
   "metadata": {
    "papermill": {
     "duration": 0.033862,
     "end_time": "2024-03-04T14:03:36.551732",
     "exception": false,
     "start_time": "2024-03-04T14:03:36.517870",
     "status": "completed"
    },
    "tags": []
   },
   "source": [
    " # 📌Recommendation for marketing department\n",
    " \n",
    "#### 👉Targeting Female-Centric Products:\n",
    "\n",
    "Clusters 1, 2, and 3 have a higher percentage of females compared to the overall population. Therefore, products or advertisements that specifically target teenage girls may perform well within these clusters.\n",
    "Products related to fashion, beauty, socializing, or lifestyle may resonate more with these clusters.\n",
    "\n",
    "\n",
    "#### 👉Understanding Male-Centric Interests:\n",
    "\n",
    "Clusters 0 and 4 have a higher percentage of males. Understanding the interests and preferences of teenage boys within these clusters can help develop marketing campaigns tailored to their needs.\n",
    "Products related to sports, technology, gaming, or adventure may appeal more to these clusters.\n",
    "\n",
    "#### 👉Fashion and Retail Promotions:\n",
    "\n",
    "Clusters 2 and 3 show a higher interest in shopping, suggesting that advertising campaigns or promotions related to shopping might be more effective for these clusters.\n",
    "\n",
    "\n",
    "#### 👉Sports and Lifestyle Brand Partnerships:\n",
    "\n",
    "Collaborate with sports brands or organize sports-related events and activities to appeal to clusters showing a strong interest in sports (e.g., Clusters 3 and 4).\n"
   ]
  }
 ],
 "metadata": {
  "kaggle": {
   "accelerator": "none",
   "dataSources": [
    {
     "datasetId": 4514514,
     "sourceId": 7727037,
     "sourceType": "datasetVersion"
    }
   ],
   "dockerImageVersionId": 30664,
   "isGpuEnabled": false,
   "isInternetEnabled": true,
   "language": "python",
   "sourceType": "notebook"
  },
  "kernelspec": {
   "display_name": "Python 3",
   "language": "python",
   "name": "python3"
  },
  "language_info": {
   "codemirror_mode": {
    "name": "ipython",
    "version": 3
   },
   "file_extension": ".py",
   "mimetype": "text/x-python",
   "name": "python",
   "nbconvert_exporter": "python",
   "pygments_lexer": "ipython3",
   "version": "3.10.13"
  },
  "papermill": {
   "duration": 53.31482,
   "end_time": "2024-03-04T14:03:37.409974",
   "environment_variables": {},
   "exception": null,
   "input_path": "__notebook__.ipynb",
   "output_path": "__notebook__.ipynb",
   "parameters": {},
   "start_time": "2024-03-04T14:02:44.095154",
   "version": "2.1.0"
  }
 },
 "nbformat": 4,
 "nbformat_minor": 5
}
